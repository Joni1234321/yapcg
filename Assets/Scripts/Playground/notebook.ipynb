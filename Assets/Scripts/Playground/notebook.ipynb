{
 "cells": [
  {
   "cell_type": "markdown",
   "metadata": {},
   "source": [
    "# Hotkeys  \n",
    "- `A`, `B` front and back\n",
    "- `ESC`, `ENTER` writing or commands\n",
    "- `M`, `Y` md and code \n"
   ]
  },
  {
   "cell_type": "markdown",
   "metadata": {},
   "source": [
    "# Start"
   ]
  },
  {
   "cell_type": "code",
   "execution_count": 1,
   "metadata": {
    "dotnet_interactive": {
     "language": "csharp"
    },
    "polyglot_notebook": {
     "kernelName": "csharp"
    },
    "vscode": {
     "languageId": "polyglot-notebook"
    }
   },
   "outputs": [
    {
     "data": {
      "text/html": [
       "<div><div></div><div></div><div><strong>Installed Packages</strong><ul><li><span>Microsoft.Data.Analysis, 0.21.1</span></li><li><span>ScottPlot, 5.0.36</span></li></ul></div></div>"
      ]
     },
     "metadata": {},
     "output_type": "display_data"
    },
    {
     "data": {
      "text/plain": [
       "Loading extensions from `C:\\Users\\jvh\\.nuget\\packages\\microsoft.data.analysis\\0.21.1\\interactive-extensions\\dotnet\\Microsoft.Data.Analysis.Interactive.dll`"
      ]
     },
     "metadata": {},
     "output_type": "display_data"
    },
    {
     "data": {
      "text/plain": [
       "Loading extensions from `C:\\Users\\jvh\\.nuget\\packages\\skiasharp\\2.88.8\\interactive-extensions\\dotnet\\SkiaSharp.DotNet.Interactive.dll`"
      ]
     },
     "metadata": {},
     "output_type": "display_data"
    }
   ],
   "source": [
    "#r \"nuget: Microsoft.Data.Analysis, 0.21.1\"\n",
    "#r \"nuget: ScottPlot, 5.0.36\"\n",
    "\n",
    "using System;\n",
    "using System.Reflection;\n",
    "\n",
    "using Microsoft.DotNet.Interactive.Formatting;\n",
    "\n",
    "using Microsoft.Data.Analysis;\n",
    "\n",
    "using Newtonsoft.Json;\n",
    "\n",
    "bool DEBUG = true;"
   ]
  },
  {
   "cell_type": "code",
   "execution_count": null,
   "metadata": {
    "dotnet_interactive": {
     "language": "csharp"
    },
    "polyglot_notebook": {
     "kernelName": "csharp"
    },
    "vscode": {
     "languageId": "polyglot-notebook"
    }
   },
   "outputs": [],
   "source": [
    "Formatter.Register(typeof(ScottPlot.Plot), (p, w) => w.Write(((ScottPlot.Plot)p).GetImageHtml(400, 300)), HtmlFormatter.MimeType);\n",
    "\n",
    "class PlotBuilder {\n",
    "    ScottPlot.Plot plot;\n",
    "\n",
    "    public PlotBuilder (string title = \"\") {\n",
    "        plot = new ();\n",
    "        plot.Axes.Title.Label.Text = title;\n",
    "    }\n",
    "\n",
    "    public PlotBuilder Add<T1, T2> (List<T1> x, List<T2> y, string legend = default) {\n",
    "        plot.Add.Scatter(x, y).LegendText = legend ?? \"\";\n",
    "        return this;\n",
    "    }\n",
    "    public PlotBuilder Add<T> (List<T> y, string legend = default) => Add(Enumerable.Range(0, y.Count).ToList(), y, legend);\n",
    "    public PlotBuilder Add<T> (List<(T,T)> y, (string, string) legend = default) =>\n",
    "         Add(y.Select(y => y.Item1).ToList(), legend.Item1)\n",
    "        .Add(y.Select(y => y.Item2).ToList(), legend.Item2);\n",
    "    public PlotBuilder Add<T> (List<(T,T,T)> y, (string, string, string) legend = default) => \n",
    "         Add(y.Select(y => y.Item1).ToList(), legend.Item1)\n",
    "        .Add(y.Select(y => y.Item2).ToList(), legend.Item2)\n",
    "        .Add(y.Select(y => y.Item3).ToList(), legend.Item3);\n",
    "    public PlotBuilder Add<T> (List<(T,T,T,T)> y, (string, string, string, string) legend = default) => \n",
    "         Add(y.Select(y => (y.Item1, y.Item2, y.Item3)).ToList(), (legend.Item1, legend.Item2, legend.Item3))\n",
    "        .Add(y.Select(y => y.Item4).ToList(), legend.Item4);\n",
    "\n",
    "    public PlotBuilder LimitY(double y0, double y1) {\n",
    "        plot.Axes.SetLimitsY(y0, y1);\n",
    "        return this;\n",
    "    } \n",
    "    public PlotBuilder Limit(double x0, double x1, double y0, double y1) {\n",
    "        plot.Axes.SetLimits(x0, x1, y0, y1);\n",
    "        return this;\n",
    "    }\n",
    "    public PlotBuilder LimitH(double h) => LimitY(0, h); \n",
    "\n",
    "    public ScottPlot.Plot Build ()  {  \n",
    "        //plot.Axes.SetLimits(0, 1000);\n",
    "        return plot; \n",
    "    }\n",
    "}"
   ]
  },
  {
   "cell_type": "code",
   "execution_count": null,
   "metadata": {
    "dotnet_interactive": {
     "language": "csharp"
    },
    "polyglot_notebook": {
     "kernelName": "csharp"
    },
    "vscode": {
     "languageId": "polyglot-notebook"
    }
   },
   "outputs": [],
   "source": [
    "static string DumpS(this object value) => value is not string ? JsonConvert.SerializeObject(value, Formatting.None) : value as string;\n",
    "\n",
    "static T[] DumpMulti<T> (this T[] values) {\n",
    "    values.ToList().ForEach(item => item.Dump());\n",
    "    return values;  \n",
    "} \n",
    "static IEnumerable<T> DumpMulti<T> (this IEnumerable<T> values) {\n",
    "    values.ToList().ForEach(item => item.Dump());\n",
    "    return values;\n",
    "} \n",
    "static T Dump<T>(this T value) => DumpOneLine(value);\n",
    "\n",
    "static T DumpOneLine<T> (this T value) {\n",
    "    Console.WriteLine(value.DumpS());\n",
    "    return value;\n",
    "}\n",
    "static void Log(this object item) => Console.WriteLine(item);"
   ]
  },
  {
   "cell_type": "code",
   "execution_count": null,
   "metadata": {
    "dotnet_interactive": {
     "language": "csharp"
    },
    "polyglot_notebook": {
     "kernelName": "csharp"
    },
    "vscode": {
     "languageId": "polyglot-notebook"
    }
   },
   "outputs": [],
   "source": [
    "static BindingFlags flags = BindingFlags.Public | BindingFlags.Instance;\n",
    "\n",
    "static DataFrame CreateDataFrame (IEnumerable<object> values) {\n",
    "    Type type = values.First().GetType();\n",
    "\n",
    "    if (type.IsPrimitive)\n",
    "        return DataFrame.LoadFrom(values.Select(i => new List<object>() { i }), new List<(string, Type)>() { (\"\", type)});\n",
    "\n",
    "    FieldInfo[] fields = type.GetFields(flags);\n",
    "    PropertyInfo[] properties = type.GetProperties(flags);\n",
    "\n",
    "    IEnumerable<DataFrame> dataFields = fields.Select(field => CreateDataFrame(values.Select(field.GetValue)).AddPrefix($\"{field.Name} \", inPlace: true));\n",
    "    IEnumerable<DataFrame> dataProperties = properties.Select(property => CreateDataFrame(values.Select(property.GetValue)).AddPrefix($\"{property.Name} \", inPlace: true));\n",
    "    IEnumerable<DataFrameColumn> columns = new [] { dataFields, dataProperties }.SelectMany(frames => frames).SelectMany(frame => frame.Columns);\n",
    "    return new DataFrame(columns);\n",
    "}\n",
    "static DataFrame CreateDataFrame<T> (IEnumerable<T> values) => CreateDataFrame(values.Select(i => (object)i));\n",
    "\n",
    "static DataFrame ToDataFrame<T>(this IEnumerable<T> objects, params (int index, string name)[] names) {\n",
    "    FieldInfo[] fields = typeof(T).GetFields();\n",
    "\n",
    "    string[] prefixes = new string[fields.Length];\n",
    "    foreach (var t in names) \n",
    "        prefixes[t.index] = t.name;\n",
    "\n",
    "    IEnumerable<DataFrame> dataFrames = fields.Select((field, i) => CreateDataFrame(objects.Select(obj => field.GetValue(obj))).AddPrefix(prefixes[i], inPlace: true));\n",
    "    IEnumerable<DataFrameColumn> columns = dataFrames.SelectMany(df => df.Columns);\n",
    "\n",
    "    return new DataFrame(columns);\n",
    "} \n",
    "static DataFrame ToDataFrame<T>(this IEnumerable<T> objects, string prefix = \"\")    => CreateDataFrame(objects.ToList()).AddPrefix(prefix, inPlace: true); \n",
    "static DataFrame ToDataFrame<T>(this List<T> objects, string prefix = \"\")           => CreateDataFrame(objects).AddPrefix(prefix, inPlace: true); \n",
    "static DataFrame Concat(this DataFrame df, DataFrame added, string prefix = \"\" )    => new DataFrame(df.Columns.Concat(added.Clone().AddPrefix(prefix).Columns));"
   ]
  },
  {
   "cell_type": "code",
   "execution_count": null,
   "metadata": {
    "dotnet_interactive": {
     "language": "csharp"
    },
    "polyglot_notebook": {
     "kernelName": "csharp"
    },
    "vscode": {
     "languageId": "polyglot-notebook"
    }
   },
   "outputs": [],
   "source": [
    "Random random = new Random(29);\n",
    "\n",
    "float NextGauss (float mean, float stdDev) {\n",
    "    float u1 = 1.0f - random.NextSingle();\n",
    "    float u2 = 1.0f - random.NextSingle();\n",
    "    float randStdNormal = (float)Math.Sqrt(-2.0f * Math.Log(u1)) * (float)Math.Sin(2.0f * Math.PI * u2); \n",
    "    float randNormal = mean + stdDev * randStdNormal; \n",
    "    return randNormal;\n",
    "}\n",
    "float NextGauss (float mu, float sigma, float min, float max) {\n",
    "    float x;\n",
    "    do\n",
    "    {\n",
    "        x = NextGauss(mu, sigma);\n",
    "    } while (x < min || x > max);\n",
    "\n",
    "    return x;\n",
    "}"
   ]
  },
  {
   "cell_type": "markdown",
   "metadata": {},
   "source": [
    "# Simulation"
   ]
  },
  {
   "cell_type": "code",
   "execution_count": null,
   "metadata": {
    "dotnet_interactive": {
     "language": "csharp"
    },
    "polyglot_notebook": {
     "kernelName": "csharp"
    },
    "vscode": {
     "languageId": "polyglot-notebook"
    }
   },
   "outputs": [],
   "source": [
    "using number_t = float;\n",
    "const int SIMULATION_STEPS = 1_000;\n",
    "const int CAPUTURE_STEPS = 10;\n",
    "\n",
    "public struct Market\n",
    "{\n",
    "    public number_t Food, Oxygen, Minerals, Water;\n",
    "}\n",
    "\n",
    "public struct MarketF\n",
    "{\n",
    "    public float Food, Oxygen, Minerals, Water;\n",
    "}\n",
    "\n",
    "public struct Population\n",
    "{\n",
    "    public number_t Farmers, Laborers, Engineers;\n",
    "    public number_t Children;\n",
    "    public number_t Unemployed;\n",
    "    public number_t Total => Farmers + Laborers + Engineers + Children + Unemployed;\n",
    "    //public float FarmersNeed, LaborersNeed, EngineersNeed;\n",
    "}\n",
    "\n",
    "\n",
    "public struct Infrastructure \n",
    "{\n",
    "    public number_t Rail, Water, Air;\n",
    "}\n",
    "public struct Technology \n",
    "{\n",
    "    public number_t Input, Output;\n",
    "}\n",
    "\n",
    "public struct Points \n",
    "{\n",
    "    public int Value;\n",
    "}\n",
    "\n",
    "struct SimulationState {\n",
    "    public Market Market;\n",
    "    public Market Surplus;\n",
    "    public MarketF Ratio;\n",
    "    public Population Population;\n",
    "    public Infrastructure Infrastructure;\n",
    "    public Technology Technology;\n",
    "}"
   ]
  },
  {
   "cell_type": "code",
   "execution_count": null,
   "metadata": {
    "dotnet_interactive": {
     "language": "csharp"
    },
    "polyglot_notebook": {
     "kernelName": "csharp"
    },
    "vscode": {
     "languageId": "polyglot-notebook"
    }
   },
   "outputs": [],
   "source": [
    "static Market sub(Market a, Market b) => new Market\n",
    "{\n",
    "    Food     = a.Food     - b.Food,\n",
    "    Oxygen   = a.Oxygen   - b.Oxygen,\n",
    "    Minerals = a.Minerals - b.Minerals,\n",
    "    Water    = a.Water    - b.Water\n",
    "};\n",
    "static MarketF divF(Market a, Market b) => new MarketF\n",
    "{\n",
    "    Food     = (float) a.Food     / b.Food,\n",
    "    Oxygen   = (float) a.Oxygen   / b.Oxygen,\n",
    "    Minerals = (float) a.Minerals / b.Minerals,\n",
    "    Water    = (float) a.Water    / b.Water\n",
    "};\n",
    "static Market min (Market a, Market b) => new Market\n",
    "{\n",
    "    Food     = Math.Min(a.Food,     b.Food),\n",
    "    Oxygen   = Math.Min(a.Oxygen,   b.Oxygen),\n",
    "    Minerals = Math.Min(a.Minerals, b.Minerals),\n",
    "    Water    = Math.Min(a.Water,    b.Water)\n",
    "};\n",
    "static Market mul (Market a, number_t k) => new Market\n",
    "{\n",
    "    Food     = a.Food     * k,\n",
    "    Oxygen   = a.Oxygen   * k,\n",
    "    Minerals = a.Minerals * k,\n",
    "    Water    = a.Water    * k\n",
    "};"
   ]
  },
  {
   "cell_type": "code",
   "execution_count": null,
   "metadata": {
    "dotnet_interactive": {
     "language": "csharp"
    },
    "polyglot_notebook": {
     "kernelName": "csharp"
    },
    "vscode": {
     "languageId": "polyglot-notebook"
    }
   },
   "outputs": [],
   "source": [
    "void Produce(in Population population, in Technology technology, out Market market)\n",
    "{\n",
    "    market.Food = population.Farmers* 5;\n",
    "    market.Minerals = population.Laborers;\n",
    "    market.Oxygen = population.Engineers * 100;\n",
    "    market.Water = population.Engineers * 20;\n",
    "}"
   ]
  },
  {
   "cell_type": "code",
   "execution_count": null,
   "metadata": {
    "dotnet_interactive": {
     "language": "csharp"
    },
    "polyglot_notebook": {
     "kernelName": "csharp"
    },
    "vscode": {
     "languageId": "polyglot-notebook"
    }
   },
   "outputs": [],
   "source": [
    "void Births (float deathRate, ref Population population) {\n",
    "    float decrease = Math.Clamp(1 - deathRate, 0.8f, 1);\n",
    "    float increase = 0.02f;//Math.Clamp(NextGauss(0.0002f, 0.0001f), 0, 0.01f);\n",
    "\n",
    "    number_t births = (number_t)Math.Floor(population.Total * increase);\n",
    "    number_t deaths = 0;\n",
    "    number_t emigration = 0;\n",
    "    number_t immigration = 0;  \n",
    "\n",
    "    population.Children =  (number_t)Math.Floor(population.Total * increase);\n",
    "\n",
    "    population.Farmers   = (number_t)Math.Floor(population.Farmers   * decrease);\n",
    "    population.Laborers  = (number_t)Math.Floor(population.Laborers  * decrease);\n",
    "    population.Engineers = (number_t)Math.Floor(population.Engineers * decrease);\n",
    "} "
   ]
  },
  {
   "cell_type": "code",
   "execution_count": null,
   "metadata": {
    "dotnet_interactive": {
     "language": "csharp"
    },
    "polyglot_notebook": {
     "kernelName": "csharp"
    },
    "vscode": {
     "languageId": "polyglot-notebook"
    }
   },
   "outputs": [],
   "source": [
    "void Promote (in MarketF ratios, ref Population population) {\n",
    "    /* This makes it faster\n",
    "    if (ratios.Oxygen < 1.2 || ratios.Water < 1.2) {\n",
    "        number_t promotions = (number_t)Math.Floor(population.Laborers * 0.1f);\n",
    "        population.Laborers -= promotions;\n",
    "        population.Engineers += promotions;\n",
    "    }//*/\n",
    "    \n",
    "    // children\n",
    "    if (ratios.Oxygen < 1 || ratios.Water < 1)\n",
    "        population.Engineers += population.Children;\n",
    "    else if (ratios.Food < 1)\n",
    "        population.Farmers += population.Children;\n",
    "    else\n",
    "        population.Unemployed += population.Children;\n",
    "}"
   ]
  },
  {
   "cell_type": "code",
   "execution_count": null,
   "metadata": {
    "dotnet_interactive": {
     "language": "csharp"
    },
    "polyglot_notebook": {
     "kernelName": "csharp"
    },
    "vscode": {
     "languageId": "polyglot-notebook"
    }
   },
   "outputs": [],
   "source": [
    "void Consume(in Market market, ref Population population, out MarketF ratio, out Market surplus)\n",
    "{\n",
    "    number_t pops = population.Total;\n",
    "    \n",
    "    Market need = new();\n",
    "    need.Oxygen = pops * 2;\n",
    "    need.Food   = pops;\n",
    "    need.Water  = pops;\n",
    "\n",
    "    Market bought = min(market, need);\n",
    "\n",
    "    surplus = sub(market, bought);\n",
    "\n",
    "    ratio = divF(bought, need);\n",
    "}\n"
   ]
  },
  {
   "cell_type": "code",
   "execution_count": 2,
   "metadata": {
    "dotnet_interactive": {
     "language": "csharp"
    },
    "polyglot_notebook": {
     "kernelName": "csharp"
    },
    "vscode": {
     "languageId": "polyglot-notebook"
    }
   },
   "outputs": [
    {
     "ename": "Error",
     "evalue": "(1,24): error CS0246: The type or namespace name 'SimulationState' could not be found (are you missing a using directive or an assembly reference?)\r\n(8,6): error CS0246: The type or namespace name 'SimulationState' could not be found (are you missing a using directive or an assembly reference?)\r\n(9,1): error CS0246: The type or namespace name 'SimulationState' could not be found (are you missing a using directive or an assembly reference?)\r\n(8,65): error CS0246: The type or namespace name 'Population' could not be found (are you missing a using directive or an assembly reference?)\r\n(10,21): error CS0103: The name 'SIMULATION_STEPS' does not exist in the current context\r\n(12,13): error CS0103: The name 'CAPUTURE_STEPS' does not exist in the current context\r\n(2,5): error CS0103: The name 'Produce' does not exist in the current context\r\n(3,5): error CS0103: The name 'Consume' does not exist in the current context\r\n(4,5): error CS0103: The name 'Promote' does not exist in the current context\r\n(5,5): error CS0103: The name 'Births' does not exist in the current context",
     "output_type": "error",
     "traceback": [
      "(1,24): error CS0246: The type or namespace name 'SimulationState' could not be found (are you missing a using directive or an assembly reference?)\r\n",
      "(8,6): error CS0246: The type or namespace name 'SimulationState' could not be found (are you missing a using directive or an assembly reference?)\r\n",
      "(9,1): error CS0246: The type or namespace name 'SimulationState' could not be found (are you missing a using directive or an assembly reference?)\r\n",
      "(8,65): error CS0246: The type or namespace name 'Population' could not be found (are you missing a using directive or an assembly reference?)\r\n",
      "(10,21): error CS0103: The name 'SIMULATION_STEPS' does not exist in the current context\r\n",
      "(12,13): error CS0103: The name 'CAPUTURE_STEPS' does not exist in the current context\r\n",
      "(2,5): error CS0103: The name 'Produce' does not exist in the current context\r\n",
      "(3,5): error CS0103: The name 'Consume' does not exist in the current context\r\n",
      "(4,5): error CS0103: The name 'Promote' does not exist in the current context\r\n",
      "(5,5): error CS0103: The name 'Births' does not exist in the current context"
     ]
    }
   ],
   "source": [
    "void SimulateStep (ref SimulationState state) {\n",
    "    Produce(in state.Population, out state.Market);\n",
    "    Consume(in state.Market, ref state.Population, out state.Ratio, out state.Surplus);\n",
    "    Promote(in state.Ratio, ref state.Population);\n",
    "    Births(1 - state.Ratio.Oxygen, ref state.Population);\n",
    "}\n",
    "\n",
    "List<SimulationState> steps = new() { new () { Population = new Population { Engineers = 10, Farmers = 10, Laborers = 1000 }} };\n",
    "SimulationState state = steps.First();\n",
    "for (int i = 0; i < SIMULATION_STEPS; i++) {\n",
    "    SimulateStep(ref state);\n",
    "    if (i % CAPUTURE_STEPS == 0)\n",
    "        steps.Add(state);\n",
    "}"
   ]
  },
  {
   "cell_type": "markdown",
   "metadata": {},
   "source": [
    "# Results"
   ]
  },
  {
   "cell_type": "markdown",
   "metadata": {},
   "source": [
    "## Populations\n",
    "\n",
    "Theory\n",
    "$\\delta p = $ birhts - deaths where deaths is set by oxygen. births is limited by utilities"
   ]
  },
  {
   "cell_type": "code",
   "execution_count": null,
   "metadata": {
    "dotnet_interactive": {
     "language": "csharp"
    },
    "polyglot_notebook": {
     "kernelName": "csharp"
    },
    "vscode": {
     "languageId": "polyglot-notebook"
    }
   },
   "outputs": [
    {
     "data": {
      "text/html": [
       "<table><thead><tr><th><i>index</i></th><th><i>type</i></th><th>value</th></tr></thead><tbody><tr><td>0</td><td><span><a href=\"https://docs.microsoft.com/dotnet/api/system.string?view=net-7.0\">System.String</a></span></td><td><div class=\"dni-plaintext\"><pre>Simulation Completed with 2 declines</pre></div></td></tr><tr><td>1</td><td><span><a href=\"https://docs.microsoft.com/dotnet/api/system.single?view=net-7.0\">System.Single</a></span></td><td><div class=\"dni-plaintext\"><pre>3.120317E+11</pre></div></td></tr><tr><td>2</td><td>Submission#9+Population</td><td><details class=\"dni-treeview\"><summary><span class=\"dni-code-hint\"><code>Submission#9+Population</code></span></summary><div><table><thead><tr></tr></thead><tbody><tr><td>Total</td><td><div class=\"dni-plaintext\"><pre>3.120317E+11</pre></div></td></tr><tr><td>Farmers</td><td><div class=\"dni-plaintext\"><pre>6.391832E+10</pre></div></td></tr><tr><td>Laborers</td><td><div class=\"dni-plaintext\"><pre>640</pre></div></td></tr><tr><td>Engineers</td><td><div class=\"dni-plaintext\"><pre>1.9177337E+10</pre></div></td></tr><tr><td>Children</td><td><div class=\"dni-plaintext\"><pre>6.23814E+09</pre></div></td></tr><tr><td>Unemployed</td><td><div class=\"dni-plaintext\"><pre>2.2269791E+11</pre></div></td></tr></tbody></table></div></details></td></tr><tr><td>3</td><td>Submission#9+Market</td><td><details class=\"dni-treeview\"><summary><span class=\"dni-code-hint\"><code>Submission#9+Market</code></span></summary><div><table><thead><tr></tr></thead><tbody><tr><td>Food</td><td><div class=\"dni-plaintext\"><pre>3.195916E+11</pre></div></td></tr><tr><td>Oxygen</td><td><div class=\"dni-plaintext\"><pre>1.9177337E+12</pre></div></td></tr><tr><td>Minerals</td><td><div class=\"dni-plaintext\"><pre>640</pre></div></td></tr><tr><td>Water</td><td><div class=\"dni-plaintext\"><pre>3.8354675E+11</pre></div></td></tr></tbody></table></div></details></td></tr><tr><td>4</td><td><span><a href=\"https://docs.microsoft.com/dotnet/api/system.linq.enumerable.selectlistiterator-2?view=net-7.0\">System.Linq.Enumerable+SelectListIterator&lt;System.Int32,Submission#9+Population[]&gt;</a></span></td><td><table><thead><tr><th><i>index</i></th><th>value</th></tr></thead><tbody><tr><td>0</td><td><table><thead><tr><th><i>index</i></th><th>value</th></tr></thead><tbody><tr><td>0</td><td><details class=\"dni-treeview\"><summary><span class=\"dni-code-hint\"><code>Submission#9+Population</code></span></summary><div><table><thead><tr></tr></thead><tbody><tr><td>Total</td><td><div class=\"dni-plaintext\"><pre>1020</pre></div></td></tr><tr><td>Farmers</td><td><div class=\"dni-plaintext\"><pre>10</pre></div></td></tr><tr><td>Laborers</td><td><div class=\"dni-plaintext\"><pre>1000</pre></div></td></tr><tr><td>Engineers</td><td><div class=\"dni-plaintext\"><pre>10</pre></div></td></tr><tr><td>Children</td><td><div class=\"dni-plaintext\"><pre>0</pre></div></td></tr><tr><td>Unemployed</td><td><div class=\"dni-plaintext\"><pre>0</pre></div></td></tr></tbody></table></div></details></td></tr><tr><td>1</td><td><details class=\"dni-treeview\"><summary><span class=\"dni-code-hint\"><code>Submission#9+Population</code></span></summary><div><table><thead><tr></tr></thead><tbody><tr><td>Total</td><td><div class=\"dni-plaintext\"><pre>836</pre></div></td></tr><tr><td>Farmers</td><td><div class=\"dni-plaintext\"><pre>8</pre></div></td></tr><tr><td>Laborers</td><td><div class=\"dni-plaintext\"><pre>800</pre></div></td></tr><tr><td>Engineers</td><td><div class=\"dni-plaintext\"><pre>8</pre></div></td></tr><tr><td>Children</td><td><div class=\"dni-plaintext\"><pre>20</pre></div></td></tr><tr><td>Unemployed</td><td><div class=\"dni-plaintext\"><pre>0</pre></div></td></tr></tbody></table></div></details></td></tr></tbody></table></td></tr><tr><td>1</td><td><table><thead><tr><th><i>index</i></th><th>value</th></tr></thead><tbody><tr><td>0</td><td><details class=\"dni-treeview\"><summary><span class=\"dni-code-hint\"><code>Submission#9+Population</code></span></summary><div><table><thead><tr></tr></thead><tbody><tr><td>Total</td><td><div class=\"dni-plaintext\"><pre>836</pre></div></td></tr><tr><td>Farmers</td><td><div class=\"dni-plaintext\"><pre>8</pre></div></td></tr><tr><td>Laborers</td><td><div class=\"dni-plaintext\"><pre>800</pre></div></td></tr><tr><td>Engineers</td><td><div class=\"dni-plaintext\"><pre>8</pre></div></td></tr><tr><td>Children</td><td><div class=\"dni-plaintext\"><pre>20</pre></div></td></tr><tr><td>Unemployed</td><td><div class=\"dni-plaintext\"><pre>0</pre></div></td></tr></tbody></table></div></details></td></tr><tr><td>1</td><td><details class=\"dni-treeview\"><summary><span class=\"dni-code-hint\"><code>Submission#9+Population</code></span></summary><div><table><thead><tr></tr></thead><tbody><tr><td>Total</td><td><div class=\"dni-plaintext\"><pre>818</pre></div></td></tr><tr><td>Farmers</td><td><div class=\"dni-plaintext\"><pre>108</pre></div></td></tr><tr><td>Laborers</td><td><div class=\"dni-plaintext\"><pre>640</pre></div></td></tr><tr><td>Engineers</td><td><div class=\"dni-plaintext\"><pre>54</pre></div></td></tr><tr><td>Children</td><td><div class=\"dni-plaintext\"><pre>16</pre></div></td></tr><tr><td>Unemployed</td><td><div class=\"dni-plaintext\"><pre>0</pre></div></td></tr></tbody></table></div></details></td></tr></tbody></table></td></tr></tbody></table></td></tr></tbody></table><style>\r\n",
       ".dni-code-hint {\r\n",
       "    font-style: italic;\r\n",
       "    overflow: hidden;\r\n",
       "    white-space: nowrap;\r\n",
       "}\r\n",
       ".dni-treeview {\r\n",
       "    white-space: nowrap;\r\n",
       "}\r\n",
       ".dni-treeview td {\r\n",
       "    vertical-align: top;\r\n",
       "    text-align: start;\r\n",
       "}\r\n",
       "details.dni-treeview {\r\n",
       "    padding-left: 1em;\r\n",
       "}\r\n",
       "table td {\r\n",
       "    text-align: start;\r\n",
       "}\r\n",
       "table tr { \r\n",
       "    vertical-align: top; \r\n",
       "    margin: 0em 0px;\r\n",
       "}\r\n",
       "table tr td pre \r\n",
       "{ \r\n",
       "    vertical-align: top !important; \r\n",
       "    margin: 0em 0px !important;\r\n",
       "} \r\n",
       "table th {\r\n",
       "    text-align: start;\r\n",
       "}\r\n",
       "</style>"
      ]
     },
     "metadata": {},
     "output_type": "display_data"
    }
   ],
   "source": [
    "List<int> declines = Enumerable.Range(0, steps.Count - 1).Where((i) => steps[i].Population.Total > steps[i + 1].Population.Total).ToList();\n",
    "List<Population> populations = steps.Select(s => s.Population).ToList();\n",
    "\n",
    "new object[] {$\"Simulation Completed with {declines.Count} declines\", steps.Last().Population.Total, steps.Last().Population, steps.Last().Market, declines.Select(i => new [] {populations[i], populations[i + 1]})}"
   ]
  },
  {
   "cell_type": "code",
   "execution_count": null,
   "metadata": {
    "dotnet_interactive": {
     "language": "csharp"
    },
    "polyglot_notebook": {
     "kernelName": "csharp"
    },
    "vscode": {
     "languageId": "polyglot-notebook"
    }
   },
   "outputs": [
    {
     "data": {
      "text/html": [
       "<img src=\"data:image/png;base64,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\"></img>"
      ]
     },
     "metadata": {},
     "output_type": "display_data"
    }
   ],
   "source": [
    "new PlotBuilder(\"Total Population\").Add(populations.Select(pop => pop.Total).ToList()).Build()"
   ]
  },
  {
   "cell_type": "code",
   "execution_count": 3,
   "metadata": {
    "dotnet_interactive": {
     "language": "csharp"
    },
    "polyglot_notebook": {
     "kernelName": "csharp"
    },
    "vscode": {
     "languageId": "polyglot-notebook"
    }
   },
   "outputs": [
    {
     "ename": "Error",
     "evalue": "(1,5): error CS0246: The type or namespace name 'PlotBuilder' could not be found (are you missing a using directive or an assembly reference?)\r\n(1,42): error CS0103: The name 'populations' does not exist in the current context",
     "output_type": "error",
     "traceback": [
      "(1,5): error CS0246: The type or namespace name 'PlotBuilder' could not be found (are you missing a using directive or an assembly reference?)\r\n",
      "(1,42): error CS0103: The name 'populations' does not exist in the current context"
     ]
    }
   ],
   "source": [
    "new PlotBuilder(\"Population groups\").Add(populations.Select(pop => (pop.Farmers, pop.Laborers, pop.Engineers)).ToList(), (\"F\", \"L\", \"E\")).Build()"
   ]
  },
  {
   "cell_type": "code",
   "execution_count": 4,
   "metadata": {
    "dotnet_interactive": {
     "language": "csharp"
    },
    "polyglot_notebook": {
     "kernelName": "csharp"
    },
    "vscode": {
     "languageId": "polyglot-notebook"
    }
   },
   "outputs": [
    {
     "ename": "Error",
     "evalue": "(1,5): error CS0246: The type or namespace name 'PlotBuilder' could not be found (are you missing a using directive or an assembly reference?)\r\n(1,41): error CS0103: The name 'populations' does not exist in the current context",
     "output_type": "error",
     "traceback": [
      "(1,5): error CS0246: The type or namespace name 'PlotBuilder' could not be found (are you missing a using directive or an assembly reference?)\r\n",
      "(1,41): error CS0103: The name 'populations' does not exist in the current context"
     ]
    }
   ],
   "source": [
    "new PlotBuilder(\"Population Log10\").Add(populations.Select(pop => (Math.Log(pop.Farmers), Math.Log(pop.Laborers), Math.Log(pop.Engineers))).ToList(), (\"F\", \"L\", \"E\")).LimitH(50).Build()"
   ]
  },
  {
   "cell_type": "markdown",
   "metadata": {},
   "source": [
    "## Markets\n",
    "\n",
    "$\\Delta price = $  goes up when supply is met, goes down when not "
   ]
  },
  {
   "cell_type": "markdown",
   "metadata": {},
   "source": [
    "## New Testing"
   ]
  },
  {
   "cell_type": "code",
   "execution_count": 5,
   "metadata": {
    "dotnet_interactive": {
     "language": "csharp"
    },
    "polyglot_notebook": {
     "kernelName": "csharp"
    },
    "vscode": {
     "languageId": "polyglot-notebook"
    }
   },
   "outputs": [],
   "source": []
  },
  {
   "cell_type": "markdown",
   "metadata": {},
   "source": [
    "# Politics"
   ]
  },
  {
   "cell_type": "markdown",
   "metadata": {},
   "source": [
    "## What do i want\n",
    "I want representation and discourse, disagreement.\n",
    "I want it to be local and state wide. \n",
    "\n",
    "Beurocracy is a mess, but necessary "
   ]
  },
  {
   "cell_type": "markdown",
   "metadata": {},
   "source": [
    "## How do we get it \n",
    "\n",
    "Decisision should be based on local factors as geography and populations.\n",
    "It should be implemented as representatives from different governments.\n",
    "\n",
    "\n",
    "Three tier of government like NUTS\n"
   ]
  },
  {
   "cell_type": "markdown",
   "metadata": {},
   "source": []
  }
 ],
 "metadata": {
  "kernelspec": {
   "display_name": ".NET (C#)",
   "language": "C#",
   "name": ".net-csharp"
  },
  "language_info": {
   "name": "csharp"
  },
  "polyglot_notebook": {
   "kernelInfo": {
    "defaultKernelName": "csharp",
    "items": [
     {
      "aliases": [],
      "name": "csharp"
     }
    ]
   }
  }
 },
 "nbformat": 4,
 "nbformat_minor": 2
}
