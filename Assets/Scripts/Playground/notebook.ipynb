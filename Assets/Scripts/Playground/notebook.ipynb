{
 "cells": [
  {
   "cell_type": "markdown",
   "metadata": {},
   "source": [
    "# Hotkeys  \n",
    "- `A`, `B` front and back\n",
    "- `ESC`, `ENTER` writing or commands\n",
    "- `M`, `Y` md and code \n"
   ]
  },
  {
   "cell_type": "markdown",
   "metadata": {},
   "source": [
    "# Examples"
   ]
  },
  {
   "cell_type": "code",
   "execution_count": 47,
   "metadata": {
    "vscode": {
     "languageId": "polyglot-notebook"
    }
   },
   "outputs": [
    {
     "data": {
      "text/html": [
       "<img src=\"data:image/png;base64,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\"></img>"
      ]
     },
     "metadata": {},
     "output_type": "display_data"
    }
   ],
   "source": [
    "ScottPlot.Plot myPlot = new();\n",
    "\n",
    "double[] dataX = { 1, 2, 3, 4, 5 };\n",
    "double[] dataY = { 1, 4, 9, 16, 25 };\n",
    "myPlot.Add.Scatter(dataX, dataY);\n",
    "myPlot.GetImageBytes(400, 300, ScottPlot.ImageFormat.Png);\n",
    "myPlot"
   ]
  },
  {
   "cell_type": "markdown",
   "metadata": {},
   "source": [
    "# Start"
   ]
  },
  {
   "cell_type": "code",
   "execution_count": 42,
   "metadata": {
    "vscode": {
     "languageId": "polyglot-notebook"
    }
   },
   "outputs": [
    {
     "data": {
      "text/html": [
       "<div><div></div><div></div><div><strong>Installed Packages</strong><ul><li><span>Microsoft.Data.Analysis, 0.21.1</span></li><li><span>ScottPlot, 5.0.36</span></li></ul></div></div>"
      ]
     },
     "metadata": {},
     "output_type": "display_data"
    }
   ],
   "source": [
    "#r \"nuget:Microsoft.Data.Analysis\"\n",
    "#r \"nuget:ScottPlot\"\n",
    "\n",
    "using Microsoft.Data.Analysis;\n",
    "using System.Reflection;"
   ]
  },
  {
   "cell_type": "code",
   "execution_count": 43,
   "metadata": {
    "vscode": {
     "languageId": "polyglot-notebook"
    }
   },
   "outputs": [],
   "source": [
    "using Microsoft.DotNet.Interactive.Formatting;\n",
    "Formatter.Register(typeof(ScottPlot.Plot), (p, w) => w.Write(((ScottPlot.Plot)p).GetImageHtml(400, 300)), HtmlFormatter.MimeType);"
   ]
  },
  {
   "cell_type": "code",
   "execution_count": 41,
   "metadata": {
    "dotnet_interactive": {
     "language": "csharp"
    },
    "polyglot_notebook": {
     "kernelName": "csharp"
    },
    "vscode": {
     "languageId": "polyglot-notebook"
    }
   },
   "outputs": [],
   "source": [
    "static DataFrame CreateDataFrame<T> (List<T> objects) {\n",
    "    Type type = typeof(T);\n",
    "    FieldInfo[] fields = type.GetFields(BindingFlags.Public | BindingFlags.Instance);\n",
    "    \n",
    "    var names = fields.Select(f => (f.Name, f.FieldType)).ToList();\n",
    "    var boxed = objects.Select(item => fields.Select(f => f.GetValue(item)).ToList());\n",
    "\n",
    "    return DataFrame.LoadFrom(boxed, names);\n",
    "}"
   ]
  },
  {
   "cell_type": "markdown",
   "metadata": {},
   "source": [
    "# Examples"
   ]
  },
  {
   "cell_type": "code",
   "execution_count": 26,
   "metadata": {
    "dotnet_interactive": {
     "language": "csharp"
    },
    "polyglot_notebook": {
     "kernelName": "csharp"
    },
    "vscode": {
     "languageId": "polyglot-notebook"
    }
   },
   "outputs": [],
   "source": [
    "struct Fisk {\n",
    "    public int A, B, C;\n",
    "}"
   ]
  },
  {
   "cell_type": "code",
   "execution_count": 31,
   "metadata": {
    "vscode": {
     "languageId": "polyglot-notebook"
    }
   },
   "outputs": [],
   "source": [
    "var fisks = new List<Fisk>();\n",
    "for (int i = 0; i < 10; i++) fisks.Add(new Fisk{A = 100, B = 200, C = 100}); \n"
   ]
  },
  {
   "cell_type": "code",
   "execution_count": 32,
   "metadata": {
    "vscode": {
     "languageId": "polyglot-notebook"
    }
   },
   "outputs": [
    {
     "data": {
      "text/html": [
       "<table id=\"table_638567480284300829\"><thead><tr><th><i>index</i></th><th>A</th><th>B</th><th>C</th></tr></thead><tbody><tr><td><i><div class=\"dni-plaintext\"><pre>0</pre></div></i></td><td><div class=\"dni-plaintext\"><pre>100</pre></div></td><td><div class=\"dni-plaintext\"><pre>200</pre></div></td><td><div class=\"dni-plaintext\"><pre>100</pre></div></td></tr><tr><td><i><div class=\"dni-plaintext\"><pre>1</pre></div></i></td><td><div class=\"dni-plaintext\"><pre>100</pre></div></td><td><div class=\"dni-plaintext\"><pre>200</pre></div></td><td><div class=\"dni-plaintext\"><pre>100</pre></div></td></tr><tr><td><i><div class=\"dni-plaintext\"><pre>2</pre></div></i></td><td><div class=\"dni-plaintext\"><pre>100</pre></div></td><td><div class=\"dni-plaintext\"><pre>200</pre></div></td><td><div class=\"dni-plaintext\"><pre>100</pre></div></td></tr><tr><td><i><div class=\"dni-plaintext\"><pre>3</pre></div></i></td><td><div class=\"dni-plaintext\"><pre>100</pre></div></td><td><div class=\"dni-plaintext\"><pre>200</pre></div></td><td><div class=\"dni-plaintext\"><pre>100</pre></div></td></tr><tr><td><i><div class=\"dni-plaintext\"><pre>4</pre></div></i></td><td><div class=\"dni-plaintext\"><pre>100</pre></div></td><td><div class=\"dni-plaintext\"><pre>200</pre></div></td><td><div class=\"dni-plaintext\"><pre>100</pre></div></td></tr><tr><td><i><div class=\"dni-plaintext\"><pre>5</pre></div></i></td><td><div class=\"dni-plaintext\"><pre>100</pre></div></td><td><div class=\"dni-plaintext\"><pre>200</pre></div></td><td><div class=\"dni-plaintext\"><pre>100</pre></div></td></tr><tr><td><i><div class=\"dni-plaintext\"><pre>6</pre></div></i></td><td><div class=\"dni-plaintext\"><pre>100</pre></div></td><td><div class=\"dni-plaintext\"><pre>200</pre></div></td><td><div class=\"dni-plaintext\"><pre>100</pre></div></td></tr><tr><td><i><div class=\"dni-plaintext\"><pre>7</pre></div></i></td><td><div class=\"dni-plaintext\"><pre>100</pre></div></td><td><div class=\"dni-plaintext\"><pre>200</pre></div></td><td><div class=\"dni-plaintext\"><pre>100</pre></div></td></tr><tr><td><i><div class=\"dni-plaintext\"><pre>8</pre></div></i></td><td><div class=\"dni-plaintext\"><pre>100</pre></div></td><td><div class=\"dni-plaintext\"><pre>200</pre></div></td><td><div class=\"dni-plaintext\"><pre>100</pre></div></td></tr><tr><td><i><div class=\"dni-plaintext\"><pre>9</pre></div></i></td><td><div class=\"dni-plaintext\"><pre>100</pre></div></td><td><div class=\"dni-plaintext\"><pre>200</pre></div></td><td><div class=\"dni-plaintext\"><pre>100</pre></div></td></tr></tbody></table><style>\r\n",
       ".dni-code-hint {\r\n",
       "    font-style: italic;\r\n",
       "    overflow: hidden;\r\n",
       "    white-space: nowrap;\r\n",
       "}\r\n",
       ".dni-treeview {\r\n",
       "    white-space: nowrap;\r\n",
       "}\r\n",
       ".dni-treeview td {\r\n",
       "    vertical-align: top;\r\n",
       "    text-align: start;\r\n",
       "}\r\n",
       "details.dni-treeview {\r\n",
       "    padding-left: 1em;\r\n",
       "}\r\n",
       "table td {\r\n",
       "    text-align: start;\r\n",
       "}\r\n",
       "table tr { \r\n",
       "    vertical-align: top; \r\n",
       "    margin: 0em 0px;\r\n",
       "}\r\n",
       "table tr td pre \r\n",
       "{ \r\n",
       "    vertical-align: top !important; \r\n",
       "    margin: 0em 0px !important;\r\n",
       "} \r\n",
       "table th {\r\n",
       "    text-align: start;\r\n",
       "}\r\n",
       "</style>"
      ]
     },
     "metadata": {},
     "output_type": "display_data"
    }
   ],
   "source": [
    "CreateDataFrame(fisks)"
   ]
  },
  {
   "cell_type": "code",
   "execution_count": 37,
   "metadata": {
    "vscode": {
     "languageId": "polyglot-notebook"
    }
   },
   "outputs": [],
   "source": []
  },
  {
   "cell_type": "code",
   "execution_count": 39,
   "metadata": {
    "vscode": {
     "languageId": "polyglot-notebook"
    }
   },
   "outputs": [],
   "source": []
  },
  {
   "cell_type": "code",
   "execution_count": 44,
   "metadata": {
    "vscode": {
     "languageId": "polyglot-notebook"
    }
   },
   "outputs": [
    {
     "data": {
      "text/html": [
       "<img src=\"data:image/png;base64,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\"></img>"
      ]
     },
     "metadata": {},
     "output_type": "display_data"
    }
   ],
   "source": [
    "myPlot"
   ]
  },
  {
   "cell_type": "code",
   "execution_count": null,
   "metadata": {
    "vscode": {
     "languageId": "polyglot-notebook"
    }
   },
   "outputs": [],
   "source": []
  }
 ],
 "metadata": {
  "kernelspec": {
   "display_name": ".NET (C#)",
   "language": "C#",
   "name": ".net-csharp"
  },
  "language_info": {
   "name": "csharp"
  },
  "polyglot_notebook": {
   "kernelInfo": {
    "defaultKernelName": "csharp",
    "items": [
     {
      "aliases": [],
      "name": "csharp"
     }
    ]
   }
  }
 },
 "nbformat": 4,
 "nbformat_minor": 2
}
