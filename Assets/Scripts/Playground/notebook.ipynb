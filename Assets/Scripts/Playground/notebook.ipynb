{
 "cells": [
  {
   "cell_type": "markdown",
   "metadata": {},
   "source": [
    "### Bootstrap"
   ]
  },
  {
   "cell_type": "markdown",
   "metadata": {},
   "source": [
    "#### Using"
   ]
  },
  {
   "cell_type": "code",
   "execution_count": 40,
   "metadata": {
    "dotnet_interactive": {
     "language": "csharp"
    },
    "polyglot_notebook": {
     "kernelName": "csharp"
    },
    "vscode": {
     "languageId": "polyglot-notebook"
    }
   },
   "outputs": [
    {
     "data": {
      "text/html": [
       "<div><div></div><div></div><div><strong>Installed Packages</strong><ul><li><span>Microsoft.Data.Analysis, 0.21.1</span></li><li><span>ScottPlot, 5.0.36</span></li></ul></div></div>"
      ]
     },
     "metadata": {},
     "output_type": "display_data"
    }
   ],
   "source": [
    "#r \"nuget: Microsoft.Data.Analysis, 0.21.1\"\n",
    "#r \"nuget: ScottPlot, 5.0.36\"\n",
    "\n",
    "using System;\n",
    "using System.Reflection;\n",
    "\n",
    "using Microsoft.DotNet.Interactive.Formatting;\n",
    "\n",
    "using Microsoft.Data.Analysis;\n",
    "\n",
    "using Newtonsoft.Json;\n",
    "\n",
    "bool DEBUG = true;"
   ]
  },
  {
   "cell_type": "markdown",
   "metadata": {},
   "source": [
    "#### Plots & Logs"
   ]
  },
  {
   "cell_type": "code",
   "execution_count": 62,
   "metadata": {
    "dotnet_interactive": {
     "language": "csharp"
    },
    "polyglot_notebook": {
     "kernelName": "csharp"
    },
    "vscode": {
     "languageId": "polyglot-notebook"
    }
   },
   "outputs": [],
   "source": [
    "Formatter.Register(typeof(ScottPlot.Plot), (p, w) => w.Write(((ScottPlot.Plot)p).GetImageHtml(400, 300)), HtmlFormatter.MimeType);\n",
    "Formatter.Register(typeof(ScottPlot.Plot[]), (ps, w) =>  {\n",
    "    var style = @\"<style> .array-container { display: flex; flex-wrap: wrap; gap: 5px; } .array-item { border: 1px solid #ccc; } </style>\";\n",
    "    var grid = ((ScottPlot.Plot[])ps).Select(plot => $\"<div class='array-item'>{plot.GetImageHtml(400, 300)}</div>\");\n",
    "    w.Write($\"{style}<div class='array-container'>{String.Join(\" \", grid)}</div>\");\n",
    "}, HtmlFormatter.MimeType);\n",
    "\n",
    "class PlotBuilder {\n",
    "    ScottPlot.Plot plot;\n",
    "\n",
    "    public PlotBuilder (string title = \"\") {\n",
    "        plot = new ();\n",
    "        plot.Axes.Title.Label.Text = title;\n",
    "        plot.Legend.Alignment = ScottPlot.Alignment.UpperLeft;\n",
    "        plot.Legend.ShadowOffset = new (1,1);\n",
    "    }\n",
    "\n",
    "    public PlotBuilder Add<T1, T2> (IEnumerable<T1> x, IEnumerable<T2> y, string legend = default) {\n",
    "        var scatter = plot.Add.Scatter(x.ToList(), y.ToList());\n",
    "        scatter.LegendText = legend ?? \"\";\n",
    "        scatter.LineWidth = 1;\n",
    "        scatter.MarkerSize = 0;\n",
    "        return this;\n",
    "    }\n",
    "    public PlotBuilder Add<T> (IEnumerable<T> y, string legend = default) => Add(Enumerable.Range(0, y.Count()), y, legend);\n",
    "    public PlotBuilder Add<T> (IEnumerable<(T,T)> y, (string, string) legend = default) =>\n",
    "         Add(y.Select(y => y.Item1), legend.Item1)\n",
    "        .Add(y.Select(y => y.Item2), legend.Item2);\n",
    "    public PlotBuilder Add<T> (IEnumerable<(T,T,T)> y, (string, string, string) legend = default) => \n",
    "         Add(y.Select(y => y.Item1), legend.Item1)\n",
    "        .Add(y.Select(y => y.Item2), legend.Item2)\n",
    "        .Add(y.Select(y => y.Item3), legend.Item3);\n",
    "    public PlotBuilder Add<T> (IEnumerable<(T,T,T,T)> y, (string, string, string, string) legend = default) => \n",
    "         Add(y.Select(y => (y.Item1, y.Item2, y.Item3)), (legend.Item1, legend.Item2, legend.Item3))\n",
    "        .Add(y.Select(y => y.Item4), legend.Item4);\n",
    "\n",
    "    public PlotBuilder LimitY(double y0, double y1) {\n",
    "        plot.Axes.SetLimitsY(y0, y1);\n",
    "        return this;\n",
    "    } \n",
    "    public PlotBuilder Limit(double x0, double x1, double y0, double y1) {\n",
    "        plot.Axes.SetLimits(x0, x1, y0, y1);\n",
    "        return this;\n",
    "    }\n",
    "    public PlotBuilder LimitH(double h) => LimitY(0, h); \n",
    "\n",
    "    public ScottPlot.Plot Build () => plot;\n",
    "}"
   ]
  },
  {
   "cell_type": "code",
   "execution_count": 42,
   "metadata": {
    "dotnet_interactive": {
     "language": "csharp"
    },
    "polyglot_notebook": {
     "kernelName": "csharp"
    },
    "vscode": {
     "languageId": "polyglot-notebook"
    }
   },
   "outputs": [],
   "source": [
    "static string DumpS(this object value) => value is not string ? JsonConvert.SerializeObject(value, Formatting.None) : value as string;\n",
    "\n",
    "static T[] DumpMulti<T> (this T[] values) {\n",
    "    values.ToList().ForEach(item => item.Dump());\n",
    "    return values;  \n",
    "} \n",
    "static IEnumerable<T> DumpMulti<T> (this IEnumerable<T> values) {\n",
    "    values.ToList().ForEach(item => item.Dump());\n",
    "    return values;\n",
    "} \n",
    "static T Dump<T>(this T value) => DumpOneLine(value);\n",
    "\n",
    "static T DumpOneLine<T> (this T value) {\n",
    "    Console.WriteLine(value.DumpS());\n",
    "    return value;\n",
    "}\n",
    "static void Log(this object item) => Console.WriteLine(item);"
   ]
  },
  {
   "cell_type": "code",
   "execution_count": 43,
   "metadata": {
    "dotnet_interactive": {
     "language": "csharp"
    },
    "polyglot_notebook": {
     "kernelName": "csharp"
    },
    "vscode": {
     "languageId": "polyglot-notebook"
    }
   },
   "outputs": [],
   "source": [
    "static BindingFlags flags = BindingFlags.Public | BindingFlags.Instance;\n",
    "\n",
    "static DataFrame CreateDataFrame (IEnumerable<object> values) {\n",
    "    Type type = values.First().GetType();\n",
    "\n",
    "    if (type.IsPrimitive)\n",
    "        return DataFrame.LoadFrom(values.Select(i => new List<object>() { i }), new List<(string, Type)>() { (\"\", type)});\n",
    "\n",
    "    FieldInfo[] fields = type.GetFields(flags);\n",
    "    PropertyInfo[] properties = type.GetProperties(flags);\n",
    "\n",
    "    IEnumerable<DataFrame> dataFields = fields.Select(field => CreateDataFrame(values.Select(field.GetValue)).AddPrefix($\"{field.Name} \", inPlace: true));\n",
    "    IEnumerable<DataFrame> dataProperties = properties.Select(property => CreateDataFrame(values.Select(property.GetValue)).AddPrefix($\"{property.Name} \", inPlace: true));\n",
    "    IEnumerable<DataFrameColumn> columns = new [] { dataFields, dataProperties }.SelectMany(frames => frames).SelectMany(frame => frame.Columns);\n",
    "    return new DataFrame(columns);\n",
    "}\n",
    "static DataFrame CreateDataFrame<T> (IEnumerable<T> values) => CreateDataFrame(values.Select(i => (object)i));\n",
    "\n",
    "static DataFrame ToDataFrame<T>(this IEnumerable<T> objects, params (int index, string name)[] names) {\n",
    "    FieldInfo[] fields = typeof(T).GetFields();\n",
    "\n",
    "    string[] prefixes = new string[fields.Length];\n",
    "    foreach (var t in names) \n",
    "        prefixes[t.index] = t.name;\n",
    "\n",
    "    IEnumerable<DataFrame> dataFrames = fields.Select((field, i) => CreateDataFrame(objects.Select(obj => field.GetValue(obj))).AddPrefix(prefixes[i], inPlace: true));\n",
    "    IEnumerable<DataFrameColumn> columns = dataFrames.SelectMany(df => df.Columns);\n",
    "\n",
    "    return new DataFrame(columns);\n",
    "} \n",
    "static DataFrame ToDataFrame<T>(this IEnumerable<T> objects, string prefix = \"\")    => CreateDataFrame(objects.ToList()).AddPrefix(prefix, inPlace: true); \n",
    "static DataFrame ToDataFrame<T>(this List<T> objects, string prefix = \"\")           => CreateDataFrame(objects).AddPrefix(prefix, inPlace: true); \n",
    "static DataFrame Concat(this DataFrame df, DataFrame added, string prefix = \"\" )    => new DataFrame(df.Columns.Concat(added.Clone().AddPrefix(prefix).Columns));"
   ]
  },
  {
   "cell_type": "markdown",
   "metadata": {},
   "source": [
    "#### Random"
   ]
  },
  {
   "cell_type": "code",
   "execution_count": 44,
   "metadata": {
    "dotnet_interactive": {
     "language": "csharp"
    },
    "polyglot_notebook": {
     "kernelName": "csharp"
    },
    "vscode": {
     "languageId": "polyglot-notebook"
    }
   },
   "outputs": [],
   "source": [
    "Random random = new Random(29);\n",
    "\n",
    "float NextGauss (float mean, float stdDev) {\n",
    "    float u1 = 1.0f - random.NextSingle();\n",
    "    float u2 = 1.0f - random.NextSingle();\n",
    "    float randStdNormal = (float)Math.Sqrt(-2.0f * Math.Log(u1)) * (float)Math.Sin(2.0f * Math.PI * u2); \n",
    "    float randNormal = mean + stdDev * randStdNormal; \n",
    "    return randNormal;\n",
    "}\n",
    "float NextGauss (float mu, float sigma, float min, float max) {\n",
    "    float x;\n",
    "    do\n",
    "    {\n",
    "        x = NextGauss(mu, sigma);\n",
    "    } while (x < min || x > max);\n",
    "\n",
    "    return x;\n",
    "}"
   ]
  },
  {
   "cell_type": "markdown",
   "metadata": {},
   "source": [
    "### Simulation"
   ]
  },
  {
   "cell_type": "markdown",
   "metadata": {},
   "source": [
    "#### Structs"
   ]
  },
  {
   "cell_type": "code",
   "execution_count": 21,
   "metadata": {
    "dotnet_interactive": {
     "language": "csharp"
    },
    "polyglot_notebook": {
     "kernelName": "csharp"
    },
    "vscode": {
     "languageId": "polyglot-notebook"
    }
   },
   "outputs": [],
   "source": [
    "using number_t = float;\n",
    "\n",
    "public struct Market\n",
    "{\n",
    "    public number_t Food, Oxygen, Minerals, Water;\n",
    "}\n",
    "\n",
    "public struct MarketF\n",
    "{\n",
    "    public float Food, Oxygen, Minerals, Water;\n",
    "}\n",
    "public struct PopulationF {\n",
    "    public float Farmers, Laborers, Engineers;\n",
    "}\n",
    "\n",
    "public struct Population\n",
    "{\n",
    "    public number_t Farmers, Laborers, Engineers;\n",
    "    public number_t Children;\n",
    "    public number_t Unemployed;\n",
    "    public number_t Total => Farmers + Laborers + Engineers + Children + Unemployed;\n",
    "    //public float FarmersNeed, LaborersNeed, EngineersNeed;\n",
    "}\n",
    "\n",
    "public struct Infrastructure \n",
    "{\n",
    "    // local is air water and rail\n",
    "    public number_t Rail, Space;\n",
    "}\n",
    "public struct Technology \n",
    "{\n",
    "    public float Input, Output, Specialists;\n",
    "}\n",
    "\n",
    "public struct Points \n",
    "{\n",
    "    public int Value;\n",
    "}\n",
    "\n",
    "struct SimulationState {\n",
    "    public Market Market;\n",
    "    public Market Surplus;\n",
    "    public MarketF Ratio;\n",
    "    public Population Population;\n",
    "    public Infrastructure Infrastructure;\n",
    "    public Technology Technology;\n",
    "}"
   ]
  },
  {
   "cell_type": "markdown",
   "metadata": {},
   "source": [
    "##### Helpers"
   ]
  },
  {
   "cell_type": "code",
   "execution_count": 76,
   "metadata": {
    "dotnet_interactive": {
     "language": "csharp"
    },
    "polyglot_notebook": {
     "kernelName": "csharp"
    },
    "vscode": {
     "languageId": "polyglot-notebook"
    }
   },
   "outputs": [],
   "source": [
    "static Market sub(Market a, Market b) => new Market\n",
    "{\n",
    "    Food     = a.Food     - b.Food,\n",
    "    Oxygen   = a.Oxygen   - b.Oxygen,\n",
    "    Minerals = a.Minerals - b.Minerals,\n",
    "    Water    = a.Water    - b.Water\n",
    "};\n",
    "static MarketF divF(Market a, Market b) => new MarketF\n",
    "{\n",
    "    Food     = (float) a.Food     / b.Food,\n",
    "    Oxygen   = (float) a.Oxygen   / b.Oxygen,\n",
    "    Minerals = (float) a.Minerals / b.Minerals,\n",
    "    Water    = (float) a.Water    / b.Water\n",
    "};\n",
    "static Market min (Market a, Market b) => new Market\n",
    "{\n",
    "    Food     = Math.Min(a.Food,     b.Food),\n",
    "    Oxygen   = Math.Min(a.Oxygen,   b.Oxygen),\n",
    "    Minerals = Math.Min(a.Minerals, b.Minerals),\n",
    "    Water    = Math.Min(a.Water,    b.Water)\n",
    "};\n",
    "static Market mul (Market a, number_t k) => new Market\n",
    "{\n",
    "    Food     = a.Food     * k,\n",
    "    Oxygen   = a.Oxygen   * k,\n",
    "    Minerals = a.Minerals * k,\n",
    "    Water    = a.Water    * k\n",
    "};\n",
    "static number_t floor (float a) => (number_t)Math.Floor(a);\n",
    "static number_t floor (double a) => (number_t)Math.Floor(a);\n",
    "static float log (number_t a) => a != 0 ? (number_t)Math.Log(a) : 0;"
   ]
  },
  {
   "cell_type": "markdown",
   "metadata": {},
   "source": [
    "#### Sims"
   ]
  },
  {
   "cell_type": "code",
   "execution_count": 23,
   "metadata": {
    "dotnet_interactive": {
     "language": "csharp"
    },
    "polyglot_notebook": {
     "kernelName": "csharp"
    },
    "vscode": {
     "languageId": "polyglot-notebook"
    }
   },
   "outputs": [],
   "source": [
    "void Produce(in Population population, in Technology technology, out Market market)\n",
    "{\n",
    "    market.Food = population.Farmers* 5;\n",
    "    market.Minerals = population.Laborers;\n",
    "    market.Oxygen = population.Engineers * 100;\n",
    "    market.Water = population.Engineers * 20;\n",
    "\n",
    "    float k = technology.Output +  (1 + technology.Specialists);\n",
    "    market = mul(market, k);\n",
    "}"
   ]
  },
  {
   "cell_type": "code",
   "execution_count": 24,
   "metadata": {
    "dotnet_interactive": {
     "language": "csharp"
    },
    "polyglot_notebook": {
     "kernelName": "csharp"
    },
    "vscode": {
     "languageId": "polyglot-notebook"
    }
   },
   "outputs": [],
   "source": [
    "void Births (in MarketF ratio, ref Population population) {\n",
    "    float decrease = Math.Clamp(ratio.Oxygen, 0.8f, 1);\n",
    "    float increase = 0.02f;//Math.Clamp(NextGauss(0.0002f, 0.0001f), 0, 0.01f);\n",
    "\n",
    "    number_t births = floor(population.Total * increase);\n",
    "    number_t deaths = 0;\n",
    "    number_t emigration = 0;\n",
    "    number_t immigration = 0;  \n",
    "\n",
    "    population.Children =  floor(population.Total * increase);\n",
    "\n",
    "    population.Farmers   = floor(population.Farmers   * decrease);\n",
    "    population.Laborers  = floor(population.Laborers  * decrease);\n",
    "    population.Engineers = floor(population.Engineers * decrease);\n",
    "} "
   ]
  },
  {
   "cell_type": "code",
   "execution_count": 25,
   "metadata": {
    "dotnet_interactive": {
     "language": "csharp"
    },
    "polyglot_notebook": {
     "kernelName": "csharp"
    },
    "vscode": {
     "languageId": "polyglot-notebook"
    }
   },
   "outputs": [],
   "source": [
    "void Promote (in MarketF ratios, ref Population population, ref Technology technology) {\n",
    "    //number_t take_(ref number_t pool, number_t n) { pool -= n; return n; }\n",
    "\n",
    "    number_t promotes = floor(population.Unemployed * 0.2f);\n",
    "    population.Unemployed -= promotes;\n",
    "    population.Unemployed += population.Children;\n",
    "\n",
    "    number_t take(number_t n) { promotes -= n; return n; }\n",
    "    \n",
    "    \n",
    "    // children\n",
    "    if (ratios.Oxygen < 1 || ratios.Water < 1) {\n",
    "        population.Engineers += take(promotes);\n",
    "    }\n",
    "    else if (ratios.Food < 1) {\n",
    "        population.Farmers += take(promotes);\n",
    "    }\n",
    "    else  {\n",
    "        technology.Specialists += 1;\n",
    "    }\n",
    "    population.Unemployed += take(floor(promotes * 0.5f));\n",
    "    population.Laborers += take(promotes);\n",
    "}\n",
    "\n",
    "MarketF ratios = new () { Food = 1, Minerals = 1, Oxygen = 1, Water = 1};\n",
    "Population pop = new () { };\n",
    "Technology tech = new () { };\n",
    "Promote(in ratios, ref pop, ref tech);"
   ]
  },
  {
   "cell_type": "code",
   "execution_count": 26,
   "metadata": {
    "dotnet_interactive": {
     "language": "csharp"
    },
    "polyglot_notebook": {
     "kernelName": "csharp"
    },
    "vscode": {
     "languageId": "polyglot-notebook"
    }
   },
   "outputs": [],
   "source": [
    "void Consume(in Market market, ref Population population, out MarketF ratio, out Market surplus)\n",
    "{\n",
    "    number_t pops = population.Total;\n",
    "    \n",
    "    Market need = new();\n",
    "    need.Oxygen = pops * 2;\n",
    "    need.Food   = pops;\n",
    "    need.Water  = pops;\n",
    "\n",
    "    Market bought = min(market, need);\n",
    "\n",
    "    surplus = sub(market, bought);\n",
    "\n",
    "    ratio = divF(bought, need);\n",
    "}\n"
   ]
  },
  {
   "cell_type": "markdown",
   "metadata": {},
   "source": [
    "#### Running simulation"
   ]
  },
  {
   "cell_type": "code",
   "execution_count": 69,
   "metadata": {
    "dotnet_interactive": {
     "language": "csharp"
    },
    "polyglot_notebook": {
     "kernelName": "csharp"
    },
    "vscode": {
     "languageId": "polyglot-notebook"
    }
   },
   "outputs": [],
   "source": [
    "const int SIMULATION_STEPS = 1_000;\n",
    "const int CAPUTURE_STEPS = 10;\n",
    "\n",
    "void SimulateStep (ref SimulationState state) {\n",
    "    Produce(in state.Population, in state.Technology, out state.Market);\n",
    "    Consume(in state.Market, ref state.Population, out state.Ratio, out state.Surplus);\n",
    "    Promote(in state.Ratio, ref state.Population, ref state.Technology);\n",
    "    Births (in state.Ratio, ref state.Population);\n",
    "}\n",
    "\n",
    "SimulationState state = new () { \n",
    "    Population = new () { Engineers = 10, Farmers = 10, Laborers = 1000 },\n",
    "    Technology = new () { Input = 1, Output =  1 },\n",
    "};\n",
    "\n",
    "List<SimulationState> steps = new() { state };\n",
    "for (int i = 0; i < SIMULATION_STEPS; i++) {\n",
    "    SimulateStep(ref state);\n",
    "    if (i % CAPUTURE_STEPS == 0) {\n",
    "        steps.Add(state);\n",
    "    }\n",
    "}\n",
    "\n",
    "List<Population> populations = steps.Select(s => s.Population).ToList();\n",
    "List<Market> markets = steps.Select(s => s.Market).ToList();\n"
   ]
  },
  {
   "cell_type": "markdown",
   "metadata": {},
   "source": [
    "# Results"
   ]
  },
  {
   "cell_type": "markdown",
   "metadata": {},
   "source": [
    "## Populations\n",
    "\n",
    "Theory\n",
    "$\\delta p = $ birhts - deaths where deaths is set by oxygen. births is limited by utilities"
   ]
  },
  {
   "cell_type": "markdown",
   "metadata": {},
   "source": [
    "#### Graphs"
   ]
  },
  {
   "cell_type": "code",
   "execution_count": 85,
   "metadata": {
    "vscode": {
     "languageId": "polyglot-notebook"
    }
   },
   "outputs": [
    {
     "data": {
      "text/html": [
       "<style> .array-container { display: flex; flex-wrap: wrap; gap: 5px; } .array-item { border: 1px solid #ccc; } </style><div class='array-container'><div class='array-item'><img src=\"data:image/png;base64,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\"></img></div> <div class='array-item'><img src=\"data:image/png;base64,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\"></img></div> <div class='array-item'><img src=\"data:image/png;base64,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\"></img></div> <div class='array-item'><img src=\"data:image/png;base64,iVBORw0KGgoAAAANSUhEUgAAAZAAAAEsCAYAAADtt+XCAAAABHNCSVQICAgIfAhkiAAAIABJREFUeJzt3XlwnPd95/n30zfugwRIkAR1UJYtu0FZscPJUbGZgHEpBqNMJldhwFkOq8KUa6cGsGqAWW3KmU3Vel3eBWY9wK6rMpvMaF1DRMlWknE4lIejoDOcSRwnlGNZQku+BEkUSHY3GgBx9t397B8P0cJJAo1GP+jG51XVxe6nu3/fX3eDv+/zO57nMUzTNBEREdkhh90VEBGR8qQEIiIiBVECERGRgiiBiIhIQZRARESkIEogIiJSECUQEREpiBKIiIgURAlEREQKogQiIiIFUQIREZGCKIFIWTp//jyGYdDX11eSeKOjoxiGwdDQUEniiZQDJRApWF9fH4ZhbLidP3/e7qoV3UsvvQTAwMBAyWKufJ92JK2V3zYQCGx4bmhoaM3vPTo6WvL6yf6gBCJF9/LLL2MYht3VKNhmjWd3dzcAg4ODdlWrJAKBAIZhMDIysunzQ0NDG5LohQsXlEQOKCUQ2bWuri5M08Q0Ta5cuZLfvtne634XjUY3bTx7enowTZP+/n4balUaQ0NDnDt3bsvno9FoPnmMjY1hmia9vb2AlUTk4FECkaJ6+umn8/fD4TDBYDA/1LGyd7u6d7J628otGAxuKHdlzmOrIZ3V5ay8PxqNbjnMsrq8lTJHR0dpbW3Nv+bcuXP58lZ6JeuH5x5W//Wff/WwXzGGpgr5/kZHRx84hzQ+Pr5prFdeeSV/v7OzE4DLly/nt20WVyqbEogU1euvv56/f/To0TXPrd+73WqPt6OjY02DbxgGL7/8cv7xwMDAmsc7sZJUCn3/atut/4pz586t6d0MDAzsqtEt9Pu7cOHCpp+/v7+fB11fLhQKAVaPc8WRI0fy9yORyM4+gJQ9JRDZtZU5D8Mw8kMZvb29+b3UFauHuoLBYH44ZHBwML99/ZDI6oZwZdhkamqq4Lp+7Wtfy98fHx/Px21ra6Onp2dN2Svx/H7/hnK2W//Vent7MU1zzR7+6oS7E7v5/rbqYYjslBKIFN2VK1cYHh7esP3555/P31+9t3rx4sX8/fVDIqv3elcSUktLS76h3KkbN24AVqO7OjH09PTsqJzt1n+15557DmBN3JXPt1O7+f78fn/B35/Iai67KyDlr6uri2vXrtldDdljbW1tAGuGv1YnstOnT5e8TmIv9UDEFqvHzldPzv7+7/9+/r7f71/TaK3s0QeDwQ0rpVaXtzIs9MYbb2yIe+rUKWDj/MNmcxbhcHjX9d8rxf7+tmP1AomVFXYr8bq6umhpadlxmVLmTJEC9fb2moDZ1dW15WvGx8dNwATMsbGxNc8NDg7mn1t/u3Llimmapjk1NbXlawCzt7c3X96DXrdS3ur6rL4NDg5uWc74+Pimn3U79d/q828Wd72HfeZif3/b+c1Wvof1t/Wvk4NBPRCxTX9//5rjRlaMj4/n5yRaWlo2TJqPjY2tWQm0+n2rbTbZ7vf7N11ptLKnvlk5u6n/XirG99fe3r6jmMPDwxvmT8bHxzcsmJCDwTA3+98kIhVt5VicwcHBij44UvaWeiAiFW79wYKrHz/77LOlro5UEPVARCrcVuclU+9Ddks9EJEKt9V8kZKH7JZ6ICIiUhD1QEREpCBKICIiUhAlEBERKYgSiIiIFEQJRERECqIEIiIiBVECERGRgiiBiIhIQZRARESkIEogIiJSECUQEREpiBKIiIgURAlEREQKogQiIiIFUQIREZGCKIGIiEhBlEBERKQgLrsrsNX1mkVEpDQKvTCt7QkECq88QCgUoq2trYi1UXzFV3zFPzjxd7MTb+sQlnofIiLly9YEspueh4iI2EuT6CIiUhAlEBERKci+mETfyq1btwiFQg98zfT0NIcPHy5RjYoXv729nePHj+9BjURESmNfJ5CvfOUrfP3rX+fo0aNbvsY0TVsn4wuJf/v2bT73uc/xhS98YY9qJSKy92xNINtpeD//+c/z+c9/vgS1KZ3f+Z3fYWZmxu5qiIjsilZh2SSZTNpdBRGRXdEkuoiIFEQJRERECqIEIiIiBVECERGRguz7VVj7USAQ4Ny5c/nHg4OD9Pf321gjEbFTNmeSyebIZE2S2RzpbI5MNkcqa23PmZDMZMlkTXKmSTJjPZ/JmaQy1utTWRMDk0Ta2u51O5iPpcnkTKo8TmaWUqSzObwuB7PLKTI5k+XlGP/3/2DfyRxtTSB2H8NRiNHRUV566aU1K8j6+voYGhpSEhGpEMlMlt+9+iZv3l0gncnxWEsNb95dIJM1Od7o40dTS6SzJtlcjkTmOzgMA5fD4InWWkLzCdxOg9MnGnl7agmXw+Cptjrem4nhchgcb6pmdjmJy+HA63bgNAzcTgcel4OmajexVBaXw+BwnZelRAaX04HP5aDa48TtdFPnc3G03ofLaRBbctr6Pe3rAwn3m2g0yoULFzYsPx4eHub8+fNcvHiRlpYWm2onIsUyMbXEq+/d4//89adxOx14XQ6cDgOX04Hn/r9ul4PZaIT248ds2xF+2Jk69poSyA688cYbDA4Obvrc2bNneeONN+js7CxxrUSk2GaWU7Q1+Dh9ovGBr1t0OspuFKWYNIm+Q1tdvKWtrY1wOFzi2ojIXphdTtFc47G7GvteRfRAsjmTV9+bLVp5LofBJx9t3vS5rbqMoVCIZ555pmh1EBH7zCynOKQE8lAVsQorkc7yb8Z+WJSyAKo9Lv79P92YQE6fPs25c+c2nSy/ceMGFy9eLFodRMQ+s0v7oAfy1lW48/eQS4O3AZZCkM2AtxaWpiCXoSkeg4t/YlsVd5xA+vr6GBkZATYuXx0aGmJgYACAsbGxh84HFGsVVo3XxR/91k/uupyHaWlpYXBwkPPnz3Pt2rX89r6+Ps6ePasJdJEKMbucwn+8wb4KRH8A/+V/hjOXweGGqkaobQWnC9w1gAkOF7GFZXz21XLnCeTy5csMDw8DVg/i2Wefxe/3EwgEmJycxDRNotEora2tFXmyxP7+ftra2tYkvitXrtDT02NjrUSkmGwfwlq8C4eegJ9+8JnIkzavwtrxJLrf78/f7+3tzd+/evUqly9fBqw99d7eXgKBQBGquP/09PRgmmb+puQhUllml5M019qZQMJQZ98BgttV8CqsaDTKyMhIPqGsvg9w5swZrUoSkbJk+yqshRDUV2ACCQQCGIbBpUuXKnKISkTE/iGsUFn0QHY8B9LZ2Zmf5zAMY1uT5eutnzjfamlsLBbbafXKRiwWK8pRpJFIpAi1UXzFV/wVOdNkIZ4mPj9DfL708QGaou8Sb+wg8ZA2wu7vv+BlvC0tLYyNjfHaa6/R2dlJV1cXwWAwP4x18+bN/JzIeqt7LoZhbHlwXnV1daHV2/eqq6u3/Nw7VaxyFF/xFR+ii0kO1Xi3Xe6efP70PXwnPwrbKNvO739HQ1jBYJBoNJp/fPXq1fzBc93d3Vy/fh2w5kcmJibWzImIiJQD2+c/oHLnQFpbWzEMA8MwOHPmTH74qqenh8nJSQzDoLW1lRdffLHolRUR2Wu2r8CCypwD8fv9D5w4Hx4ezh8jIiJSjqaXUhy2sweyFIGaFjD2/6kK938NRURKyPYhrDLpfYDNCeQgnwZZRPan2eUUzbVe+ypQJvMfYHMC0XEkIrLf2H8MSBjqjtoXfwc0hCUissrsctLmIay7UHfMvvg7oAQiIrKK/XMg6oFUrPPnz+eXMRuGUbEnjBQ5qGaW7B7CKp9J9Iq4ImGpTU1N6dofIhXK9h6IJtG3R6uwRGS/mVlOccjOVVhl1APRKiwRkfts731kU5BchOpD9tVhBzQHUoDVp3NZfW4wESlv9q/AKp/eB1TKHEguA+/8t+KV53TBY5/e8mnNgYhUJtuPASmj+Q+olASSScLffrV45XlqH5hARKQyzS7ZvYQ3VDZLeKFSEoinBi78md21EJEyZ/scyGKobA4iBK3CEhHJs30Iq4wOIgSbeyCmaZZdErl27ZrdVRCRPTKzlOTxllr7KrBwF4522Bd/h7QKS0TkPvuHsMqrB6IEIiJyn/1DWOVzIkVQAhERybOuBaIeyHYpgYiI3GdrDyQxDw6Xtaq0TGgVlojIfdYciE3nwSqz3gcUsApraGiIgYEBAHp7exkeHgYgGo3S2tqaf11XV9dDVyyV4yosEalM87E0tV4XTscmbVIuB7kUZNPWmS+yKcimcC7cBdf8B9tzWcjErcemCemYtd1wQmrR2u5wWue7yqYgm4Fs0to+dwsa2kv/wXdhxwmkra0tfxLEvr4+AoEAnZ2dwPaShojIGpnk/cY0bf2bSVjbcmlIJ6xtmJCKWffNnNUwZ1NU35uBW94P3u9wQmLOuu+tt5bFZlNQcxju3bLu+xph4Y5VvmlCOm6VlUryHxzV8K//ufX+ox3w/t9a73nkp+H2q+B0Q8tHYO59cHpoNtzg9ljbHS6oP2HFd7qh+RQsha3tjSdhedraXn3Iiun0gMsLDje4q+HYj8HH/7Hdv8aO7DiB9PT05O+fOXOGcDgMQCQS4dSpU8WrmYiUr2wKXh6A8OtWY3z4Cbj7XSs5NLTD1FvWaxwuKyE4PR80ustRq2E94rf2yp0eOPyk1eg7PdbJBpOL4PTgSmahvuGD93sbrQTh9EBVo3VeKacHvHXQfsa6764BA6vhdnqsc985Pbx5Z5nf++vb/N7Ff3A/IbjB5bFeY2w+2h8NhWhrK59zVxXbrg4kDIVCPPPMM/nHIyMjjIyMADA+Po7f799d7YC33nqLl19+edfl7Cdvv/02TU1NdldDZO+Eg3DnVfilr1qNsdNHCicpXKTxkMRFKucihYNU1iSZzpLK5shkTRLpLOlsDgODxWSGdDaH2+lgvjFFKmvichjMu9Kksznm40s44z7SWZN0NofP7WBmKUUqm+NovY+J6BLprMnJ5mq+F1ognc3R1uDi7allUtk4pmkST2dJ3y/3hV/oKLt5CDsVnEACgQCTk5P09/cD4Pf780NbgUCAjo6OXV/v42Mf+xhf//rXGRwc3PI1mUwGl8u+A+oLjX/69Ok9qI3IWplsjlQ2RyqdI57JkkznSGVyxO832KlMlmTmgwY8lzNZTmVJprO4XQ5ml1MkMzlqPE7CC0mSmSw1Xhfh+QSpTI5YPE7WeJdkxiq3sdrD7Xsxfir1LX7d08jF34uQzpo8c7KR196fw+ty8OGjddyZi+N2OqjxOjEw8LoceFwOjtT7WE5mcLscnGiqYi6Wxu00OFrvYyGRweN00Fjtxud2UOdzUW14ONxUj9vpwO1yUO1xYBgGHqeDKrcTh8PA7XTgczlw3r/vdTtwORx4nFZMl9PaLjtnmAW08kNDQwD55LGZvr4+Ll++vGkvZP3E+d27d7csxzRN4vH4ls9PTU2tmbwvtd3Er66u3nX8SCTCkSNHdl2O4u+P+H/73gLTsTSJdA6nAffiGZKZHFVuB5GlNKn796eW0qSzJvFEkozhIpnJkczkaKxyMTmXJJnJ8ZHWat4ILeNxGnz8eC0T03E8LgePNnmZjWVwOx1Uuw0cDqvBdTsNmqrcpHM5PE4Hh6rdJLM53E6DRp+LTM7E43JQ47YaabfTIL44T8vhZjxOqwyvy8DlcHDkRy/hW3qfez/527j3sIGutN/fjvjHjh0reGd/x7vOfX19PPfcc/mJ80KsrqxhGLsaQ6yurrZ1DNLu+IDiV0j8v/z+FF/7zjQfOlJLldvJ0XofVUaWJreT5hoPJ00Tr8tJvc+JYVh7z8vz92g70oLP7bRuLgdetxOf29oD3+tVjqGt5gDej0HTh2l+5MSexofK+f3LMf6OEkgwGKS9vf2hySMQCDAxMVGUORCRg+Kd6BKffLSJL3R9dNvvCYUytLXtw/m0hTtwVMO0lW5H/cpIJMLAwED+cq6GYXD+/HkARkdH89vOnTun5bwiOzS9lORwrU0HsRXbwl2oL59zOklhdpRAOjs7MU1zzW0lUfT09KzZLiI7M72U4rCd52EqJiWQA0FLD0T2icrqgdyB+uN210L2mBKIyD5RMQlkOXr/YD633TWRPaaTKYrsE9OLqcpIIOp9HBi2JhDNlYh8wOqBVMAcyPwdaFACOQg0hCWyD8zH0tR4Xbgq4YhoTaAfGBXw1ypS/ipm/gM0hHWAKIGI7APRpSQtdRUwfAXqgRwgSiAi+0Bl9UCUQA4KrcIS2QesgwgrJYFoCOug0CoskX1gZinJoUpYgQXqgRwgGsIS2QcqZggrNgOeGnD57K6JlIASiMg+oIMIpRwpgYjsAxVzEKGGrw4UJRCRfcBaxlsJPRAlkINEq7BE9oGZpRSHaiohgWgI6yDRKiwRmy0nMzgMqPI47a7K7qkHcqBoCEvEZtNLSQ5XwvAV6ESKB4wSiIjNdBChlCslEBGbTS9WyDEgoCGsA0YJRMRm08sVsoQ3fg9cHnBX210TKRGtwhKxWcUMYS3c1fDVAePa6RuGhoYYGBgAoLe3l+Hh4U2fGxsbo7Oz84FlmaapJCIH3vRikieP1JY2qGlCNgmZJGQSkI5b/2ZTkE5Y980cpJYgkwLDgMSc9XrDad3PpqidnwOfy3r9/G1o+UhpP4fYascJpK2tLb/8tq+vj0AgQGdnJ4FAgMnJSUzTJBqN0traqmW6Ig9j5lhcmOPYCQPmJ63GOh2735hn7jfgcavBX2nAMSA+C+k4dQvz4DHvN/pxa/hoMWy9ruEERN60th/+MEz+nZUgmh+H8Bvg9IKvwaqHu8o6f1XjSSuOyweHTsFS1BqWanzUiunyQfVhK/k4PZi+RmhssrYf/wQ89Yt2fptSYjtOID09Pfn7Z86cIRwOA3D16lUuX74MQEtLC729vfnkIlL24vdg9l2rcc+mIbkA6ThVMxF4z2Xtwadj1p768rT1uKoJZt627jecgNDr9+8fh/C4dd/l5cvpHM671fBX1dD0GCTuWQ1yy0dgKQyuKmh+DOJz4PJCTSvksuBrIJurhuYWcPus93hqwOGyXueuAafLer+7ytrm9FiPnTv+r7+p5VCI+ra2opQl5WdXf0WhUIhnnnkGgJGRkTXDWauTi0jZ+8PfsPbePTXW3nhqEdxVuNNOaGi0GmhPjbVH33DC6gn4GuBDP3//udr7jXqV9ZzLZ913uPjs0A3+4OInebxl58NYsVCIBjXgYpOCE8jKkFV/f38x6yOy/8RmrJ7Ev3xnw1MLoRA1u2zAK+pAQjlQCkogQ0NDAGt6HDuxfuI8FAoVVA5AJBIp+L3FoPiVH98VfZPG6qNMb/J3utv4qWyORDrL8r1plgt4/0H4/hV//8bfcQLp6+vjueee2zC30dXVRTAYxO/3A3Dz5s38nMh6qyfXDcOgbZd7cLt9/24pfoXHn/s2tDy+ZZzdxL8zF6elzrerMir++1f8fRt/R8eBBINB2tvbN50Y7+7u5vr16wBEo1EmJibyyUSkrM1PQkP7nhRdUZeylQNnRwkkEokwMDCAYRj52/nz5wFrddbk5CSGYdDa2sqLL764JxUWKbm5SWjcmwRSMQcRyoG0owTS2dmJaZprbteuXcs/Pzw8nN/e0tJS9MqK2GL+trWyag9U1Hmw5MApzmJwkUo2/37BQ1ixVIZ4KksynSOezpLMZEllcywns8TTWb45Mc3xxqoiV1ikNGxNIDqNidgpnc0RS2ZZSmWIpzLE7jf0y/cbfdOEe/EUvxK9xdd/aPL+G98nnsridhmE5pMkUlmWYjFSvEs8nSWRytJQ5ebdmWXiqSynTzTw5t0FqtxOPvFIExPRZbxuB48dqmYunqbK7cTncvK5s6fs/ipECmJrAtG5sGQnlpIZlpMZlpIZlhIZYqkMtyNzeCI5lpIZYsksmVyO2eUUy8ksNV4n704vs5zKcrTex/ideeKpLMcafLx+ex4Tk5ZaL4ZhUOVxUu1xcqyxikQ6S5XbycnmapLxJZzZOIuORmq9OVrqvDRVe+g4buBzO0ksznHsaCtVbgc+t1WGz+2kyu3E666AKwyKPICGsGTP5XImC/E084k0C3ErCdyLpVhMZFhOZZiPp/PJAeDuXIKFRJqj9T6+OznHUiLDx47XE7yzQI3Xycfa6plZTlHtdVHlyFJXk6DW66La4+RQjZfWOh81h10017j5B48fosbjpN7nxut2UOVxUeN1Uu124XFtYwpw+ocQOsnlTz2+6dOhUI62tqZifl0iZUMJRLZtPpbmXizFQiLF7HKa+Xia2+EZsm8tMRdPsxBPY5pw+16M+XiaY41V3Hx3llgqw6efbOGd6WXqfW4+dKSWeCpLnc9NU7WbKo+To/U+arwumqo9VHmc1Ptc1Fe5qPa4qPW6qPO5N61TKBTa23Xwe7gCS6TcKYHIppLpLL/z50G+/d497sVSfPhoHd8LLdJU7eajxxqIpTI0VLmpMtK0Nnk50VhFfVs9zTVuarwuGqrcNFa5qfW5qfWW8Z/ZLibQRSpdGf/Plr30xp15vh9a4A8ufpKmag9NNZsf7LbnPQC7zU1apzgXkQ10RULZVGQhwclDNTzeUrtl8jgQ9vAYEJFyZ2sC0QWn9q/IfIIj9T67q2G/PTyNiUi5szWByP4VXkhwVAlEk+giD6AEIpuKLCQ5Uq9TbKgHIrI1JRDZVGQhwZGGA94DUfIQeSAlENmUhrDQ8JXIQ2gVlmwqsqBJdPVARB5Mq7Bkg/lYGq/LOqfTgaYeiMgDaQhLNogsJjSBDuqBiDyEEohsEJ7X/AegBCLyEEogsoFWYN2nISyRB1ICkQ0iCwmO1CmBqAci8mC6IqFsEF5I8pGjdXZXY29kEpBcgvQypGKQjkFq6YP72RTE5yA2De4acOtysyJbKTiBGIbB2NgYnZ2dAESjUVpbW/PPd3V1ce3atQeWoSsS7k9TCwk+9eRhu6thySQhuQipZUjM3W/s4/n71TMR+IF5/zVLgAGLd60kUdcG4det97Z+FN65AQ4XHP8xmL8Dnmqoara2earBXQ21RwDTuv9PH/z3K3LQ7TiBDA0NMTAwQG9v74bntpM0ZP8r2kGE6Tgk5iG5YDXisVnrcSYBS5H72+MQn4HEgvXY5YPZd6z7LU/BnW+Dtw5O/hTM3QJPLRw6ZfUWPLU4s27wHIL6Nuu5qmZwecFbC956qzxPjZUQvLVWshCRotjx/6b+/n76+/vp6+tbsz0SiXDq1KmiVUzss2EVVmIO4vMQm4H4rLWnvxiBxBx1M2Ew4hC/Z73O6YHoD6zH7Wdg5m2rIT/+CVieAl8DND4K5MDbAPXtVsPuq7de52uwGnxvvZU4nJtfiXDFYihEbSVfj0RkHyvq7tjIyAgjIyMAjI+P4/f7i1m8lMjUYpJWbwq+9uvw3l9Zjfljn4KF29Ye/qEPATnwNZKtOwatJ6CqCXyNUN1sJYGqJiuZiEjFKloC8fv9+SPLA4EAHR0dOtK8DOV7H5M3wXDAv5qx/t1CLBSiQT0AkQNpTwaEOzs76e3tJRgMbtoLWT9xHgqFCo4ViUQKfm8xVFr8tyLLNFc5mH/327iqjrMQfnD5lfb5FV/xFX/7bJlRXN0zMQxj19fUtvua3JUUf3w2zInDdTRkZ6DdT802yq6kz6/4iq/427cnBxIGAgEmJiY0B1KG8iuwZt+F5sfsro6I7GNF64GMjo5y4cKF/GPNf5Qn60qEPph8B5oft7s6IrKPFdwDGR4ezh9ECNDT04NpmvmblKf8dUBmlUBE5MF0LixZI7KQ4KRzGuqP6aA7EXkgtRCyRng+wbHsrHofIvJQuqStrBFZSHAofQeaHrW7KiKyz+mStpIXT2VJZ02qFt9XD0REHkpzIJIXXkhwtEET6CKyPUogkqcVWCKyE5pEPwBiqQwzS0miiymml5MsxjOE5uPMLKVYSKSJLCSZXU4Rno/zz372CfjvSiAi8nBKIGUsmc5yZz7BrfgMkYUEofkEi/E0t2ZjTC0kaax28823pzGBTz15mKmFJIdrvZxqrcVpGJw8VM3hWi9N1R6aaz0crvHQaszBzQZdiU9EHkqXtN3HphcTTN6Lc/tenIVEmh+EF7k7F8cwDL793iyxVJb2Rg+H66s5Uu+jrcHHiaZqnjpWT2udjyP1Xg7Xeqnx7uBnvqXeh4hsj60JRJe0hfdnl3k3usx7MzFuzSwzu5zizbsLvD8b4yceP8RCIs2Jxio+dqyBJ1pr+dSTLZxoquJInY+mGg+hUKi4J1PT/IeIbJOGsErkR5EFvh9e4oeRRe7FUvzdO7O8M73Mk0dqaa3z8eihah45XMOnn2zln/2sj5PN1XjdztJXVAlERLZJCaTIEqkMb9xZIHhnnvBCgr/6YZTvhRd57uk2TAyePFLLz364lYs/+SiPt9TidOyzHti9d+Ejv2h3LUSkDCiB7NKd+QTfvDvJd27N8fe37pHO5Thc48V/ooFPPtLILz9znKfa6u2u5vbNvqPTuIvItiiB7NC95RR//XaUGz+I8q2JGard8PFHDvNjJ5u4+FOP8uGjdXZXcXdm39UQlohsi1ZhbcN708vc+MEUf/7du7w3s8yvfOIEP/XEYf7FZz6MEZ+z/YpkRRObsc7A62uwuyYiUga0CmsLyUyWP/372/zRq5MsxNP8k594hH/1ix/lmZNNa14Xis/ZVMM9oAl0EdkBDWGt88PIAv/vN2/xp9+5zT//uSf44j/0c/pEo93V2p2lKat3sRiG5SgkF2H+fViKQnIBFu7A8oz13Gf+V7trKyJlQgnkvjtzcb708veYjaX4xdPH+NI/6rC7Sg+3FME1/RYsvGYlh4W7VnKYfQeWIlDTAm+PQW0rPPYpK4nUtEDzE+BrhMNPQu0RqGqGmkNQfQg8tXZ/KhEpE0ogwO9efZO/eCvCb3/2KbpO75P5jEwS5t6HuVswN2klhsg4zN8Gpwfe+yuoPkx9XTvUt0LdUesqgs2n4IlOKzHUtVnJQ0RkDxzoBDIxtcTFF/+O3/yZU3zzhZ8rfQU0IsI5AAAOQ0lEQVRSSzD9NsxOWL2G2XcgPgd3X4P4LHzoM5COQ2M7HPkYPPHz0HACGk5CfRs4nMwW+0h0EZFtOrCrsP741ff5f/77u3yj91PUV7n3NlhiHqI/gEgQpr5n9SbeuWH9e/S0lQyaH4dHfwYOPWEljDolBRHZ3wpOIIZhMDY2RmdnZ37b0NAQAwMDABue24xdq7D+y5th/vpH0wT+xaeLX/hi2OpBhL5rTVL/6BVrovqp58DphtanrN7Euf9FSUJEytqOE8hKkujt7V2zPRAIMDk5iWmaRKNRWltb9+Ula//0O7f5y+9F+GrPJ4pSnmv6Lbj1H2HypnWrvT8f0fZxeKoLfuZ5aGgvSiwRkf1kx1ck7O/v3zQxXL16lcuXLwPQ0tJCb28vgUBg9zUsotv3YnzlL364u+Qx9z68dgX++AJ8+ST1f/Mla5L7o78Ev/kX8Fs3oPuP4OwLcKpTyUNEKlbR5kBGRkYYHh7OPz5z5gzhcLhYxRfFb/zbv+X/+9xP7vyN4Tdg4r/C6y9BahlO/4Z1+6WvMnsvpklsETmQDswqrH/5J6/zwrMf4XjjNq+0F5uBN/4Yvv0iuHzwyUvwqy9acxhrX1j0uoqIlANbEsj6ifNQKFRwWZFI5KGvuXUvwd9NRHn+p1sfGssVfo3a4BW8d/6GpY//FsnOf0Om8f7pPbLAuvdvJ/5eUnzFV3zFt0vREkhXVxfBYBC/3w/AzZs383Mi662eQzEMY9dDQA97/599/23Of7z9wa+LBOGVL4CrCp75Vfgnf8h2T8Ju9xCW4iu+4iu+HYqWQLq7u7l+/Tp+v59oNMrExEQ+mdjtG+Mh/o9fOb35k6YJX/8chIPwmS/CqZ8tbeVERMpU0RJIT08PfX19+eGpqampYhW9K5OzMRYSaT52fJNTlN9+Fa78KvzC/w6//G9LXzkRkTJWcAJZveJq9bbNttvpG+MhPuvfpIv3N/8XvPXn8D+9B/v0lPIiIvvZjo8DKTfXg2Ge9R9du/G7fwjTP4LfHFPyEBEpUEWfCys0Hye8kFh7EahX/wDuvAb/8Kt7GltEpNJV9BUJ/3MwzC+s7n1MvQWv/jv4H7+1ZzFFRA6Kih7C+s/jIX6hY9X8x4ufhUvfsK9CIiIVpGITyFwshWEY/PijzdaGP70M/+j3oarpwW8UEZFtqdgE8r9943v82idOWA/uvQu3b8KHft7eSomIVJCKTCCvvX+Pt6eW+LVP3j8T7js34PGzNtZIRKTy2JpA9moC/bf/bJwv/XLHBxuUQEREis7WBLIXF5z6D996j08+2sxTbavOZKUEIiJSdBV1OvdszuR3/9NbTHzpsx9sDH0XGh/V5LmISJFV1BzIn/z9JBd+4pG1G9X7EBHZExWVQOZiaXyudR9JCUREZE9UVAKZj6dpqHKv3agEIiKyJypqFdZ8PE1D9aoE8u5/g0c/pRMmiojsgYpahTUXS9NY5flgg3ofIiJ7prKHsJRARET2TEUlkLl4isaVIazkIixG4PiP2VspEZEKVVkJJJb+IIFMBODEj9tbIRGRClZRCWQhnqZ+ZQjr7b+EJ37O3gqJiFSwilmFlcuZLCUz1PtWEsgYPHGuaOWLiMhaRUsg0WgUwzDyt/Pnzz/0PcVchTUXT9NYfX8FVvT74K2D+uNFK19ERNYq6rmwurq6uHbtWjGL3La5WIrG/PBVAJ7otKUeIiIHRdF6IJFIhFOnThWruB1bs4RXw1ciInuuqHMgIyMj+SGsYDBYzKIfas1R6BN/Cac0gS4ispeKNoTl9/vzcxqBQICOjo49ud7HVqyj0N3qfYiIlMieXA+ks7OT3t5egsEgfr9/w/PrV1+FQqGCY0UiEQAmIzO4zDTLr18l2/rjLO+izELi20XxFV/xFd8utlxQanXPxDAM2tradlVeW1sbubeWOH7YR80PvgWfHqX+8O7K3Gl8Oym+4iu+4tthT44DCQQCTExMbNr72CvzsRTHHNOQjsPhJ0sWV0TkoCpaD2R0dJQLFy7kH5dy/gOsSfTHzCB0/FpJ44qIHFRF64H09PRgmmb+VmpzsTSHUrfBWVGXeRcR2bcq5lxYc/E09akpHX0uIlIiFbO7Ph9PU+0NQ8MJu6siInIg2JpAinkyxflYGq87pB6IiEiJ2JpATNMsWhKZi6dwOu6oByIiUiIVMQcSS2VodiYwHA7rLLwiIrLnKiKBzMXSfMg3r+ErEZESqowEEk/zuGcOGpRARERKpSISyHwsxUnXPfVARERKqCIuaTsfT3PMmIGG9qKUJyIiD2drAinWEetzsTRHmdYQlohICVXEENZcPM2hbFRDWCIiJVQRCWQ+nqYxPaVjQERESqgyEkgsTW0yoh6IiEgJVUQCyS5FyLjrwOW1uyoiIgdGRazCci+FSNfYe1UwEZGDpiJWYfliIXIavhIRKamKGMKqTUZwaAJdRKSkKiKBNKSncDXrIEIRkVIq+wSSzZm05KL4Dj1id1VERA6Usk8gC4kM7c5ZHYUuIlJiRU0gQ0NDGIaBYRgEAoGHvr4Yq7AWk1namNExICIiJVa0KxIGAgEmJycxTZNoNEpra+tDV1kV44qEC4ksrea0jkIXESmxovVArl69yuXLlwFoaWmht7d3W72Q3UrP32XW2bLncUREZK2iJZCRkRH8fn/+8ZkzZwiHw8Uqfkvm/F3mPUf2PI6IiKxV9pPojqUQy76jdldDROTAKfsE4o6FSVYrgYiIlFrRJtG7uroIBoP5YaybN2/m50TWWz9xHgqFCo5rNj8Brcd3VcZuRCIRW+IqvuIrvuLbHb9oCaS7u5vr16/j9/uJRqNMTEysmRNZbfXqLMMwaGvbxYkQf/r87t5fBIqv+Iqv+AcxftESSE9PD319ffnexdTUVLGKFhGRfaiocyDDw8OYpolpmrS0aGmtiEglK/tJdBERsYcSiIiIFKQirkgoIiKlVxFXJBQRkdLTEJaIiBRECURERAqiBCIiIgVRAhERkYJoFZaIiBREq7BERKQgGsISEZGCFO1kioUqxnXRRUSkMLsZCbI9gcDG07tv9oF2ur1U71F8xVd8xa+U+DtlmGU+EVHML0PxFV/xFV/xt09zICIiUpCy74GIiIg91AMREZGCKIGIiEhBlEBERKQgZZ1AAoEAhmFgGAZDQ0Mlizs6Osr58+fXbItGo/m6rH+uWFbHMAyDYDBY0vjBYHBN/Gg0WtL4q/X19TE6OlrS+Ou//9VxSvn5V9ehlPFXx125rfwGpfr8fX19tv392xm/r69vQxv3oPbv/Pnzm/4/LbayTSDRaJRz585hmiamaXLjxo01P+hexTQMg5s3b2547tKlS4yPj2OaJmfPnl3TuBXLK6+8kv+84+PjvPDCCyWND+TjX7lyhS9+8Ysljw9WIhsZGVmzrVTxu7q68t/BtWvXSh7fMIx8nNXrX0oRfyXm6tg9PT0lix8IBPL1GB8fp6OjI/9cKeIPDQ3R3t5e0vgrSWK9B7V/Q0NDdHd3Y5omY2Nja/6fFlvZJpBXXnmFK1eu5B93d3dz/fr1PY3Z0tKCaZpcvnx5zfZgMMipU6fw+/0APPvss7z00ktFj7/ynxXA7/fz8ssvlzT+SvkATz/9dP5+qeKveOGFF9b89qWKH4lEOHXq1IbtpYofCAS4cuXKmt+hlPFXGx0dzf8GpYofDoc5c+YMYP0tdnV1EY1GSxb/xo0bXLx4MR+/t7eXYDC4p/E7OzsxTTP/uVc8qP0bGBjItxWdnZ2MjIzsWS+kbBPIzZs31zRiTz/9NJOTk7bU5fXXX1/zA69u3PdKNBqlq6vLtvjXr1/Pxyxl/NHRUZ5//vk120oZf2RkZMMQRqniX716FWDDsIUdv/9LL72Ub6RKFf/pp5/O9/5XvvuWlhZbPj9Ae3s7kUjElvhbtX/BYJDe3t41r+3t7SUSiexJPco2gRx0ly5d4stf/nLJ466MrT7zzDNrekSlEAwGuXnzJp2dnSWNu8Lv9+eHDMbGxtYMYZTKzZs31wxbrAzrlFIgEODs2bMlj+v3+zlz5gyGYdDR0cGLL75Y0vhnz57la1/7GmDtwA0MDJQ0/n6kBFJmVuZhXnzxxQ1DGaVw7do1TNPktddeK8lk+WodHR0MDw+XNOZWOjs780MYpbR6+LS7u5twOFzS+GD1hJ599tmSx13pca0k0EuXLu3pBPF6/f393LhxA8MwaG1tZXBwsGSx96uyTSDt7e28/vrr+cfru5GldPTo0TUT65t1I4shGAxy6dIlTNOkpaWl5PFX6+/vB6yEVor4K5OSK8M3Fy5c4MKFCwwNDdny+VcrVfyVIRO74q+YmJhYs/NSqvg3btzgM5/5TP5xd3c3r7zySkk//8oO1EoP8PTp07b8/W3V/h05cmTDApORkZG929k0y9T4+LjZ1dWVf9zV1WVOTU3ZEts0TRPIxx8cHDTHxsaKHre3t3fLz1iK+KvLXP8dlCL+aleuXDGvXLliW/yxsbGSf/71Mbu6uszx8fGSxV+pw+Dg4Ibtpfr7X/2bd3V15ePY8fe3+nvY6/jr4z2o/evt7c3H3+r3Kpay7YH4/X66u7vze6TPP//8mr3yUhsfH6e1tTW/5G4vxuknJibyMVZuK2PgpYh/9erVfNyOjo41y1hLEf9BShF/dHQ0//nPnTtX8s/f2dnJ2bNn1/zNr+xZlur7D4fDtLW1bdheivjDw8NcuHAh//m7u7vzcUr9+9+8eTPfCy9V/NUe1P4NDw9z7tw5DMPgK1/5ypp6FptOpigiIgUp2x6IiIjYSwlEREQKogQiIiIFUQIREZGCKIGIiEhBlEBERKQgSiAiIlIQJRARESmIEoiIiBRECURERAqiBCIiIgVRAhERkYL8/1EeURbgbN2eAAAAAElFTkSuQmCC\"></img></div> <div class='array-item'><img src=\"data:image/png;base64,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\"></img></div></div>"
      ]
     },
     "metadata": {},
     "output_type": "display_data"
    }
   ],
   "source": [
    "new [] {\n",
    "    new PlotBuilder(\"Total Population\").Add(populations.Select(pop => pop.Total)).Build()\n",
    "    ,new PlotBuilder(\"Population groups\").Add(populations.Select(pop => (pop.Farmers, pop.Laborers, pop.Engineers, pop.Unemployed)), (\"F\", \"L\", \"E\", \"U\")).Build()\n",
    "    ,new PlotBuilder(\"Population Log10\").Add(populations.Select(pop => (log(pop.Farmers), log(pop.Laborers), log(pop.Engineers), log(pop.Unemployed))), (\"F\", \"L\", \"E\", \"U\")).LimitH(30).Build()\n",
    "    ,new PlotBuilder(\"Production Log10\").Add(markets.Select(m => (log(m.Oxygen), log(m.Food))), (\"O\", \"F\")).Build()\n",
    "    ,new PlotBuilder(\"Prod vs Workers Log10\").Add(markets.Select((m, i) => (log(m.Oxygen), log(populations[i].Engineers))), (\"O\", \"Engineers\")).Build()\n",
    "}"
   ]
  },
  {
   "cell_type": "markdown",
   "metadata": {},
   "source": [
    "#### Declines"
   ]
  },
  {
   "cell_type": "code",
   "execution_count": 29,
   "metadata": {
    "vscode": {
     "languageId": "polyglot-notebook"
    }
   },
   "outputs": [
    {
     "data": {
      "text/html": [
       "<table><thead><tr><th><i>index</i></th><th><i>type</i></th><th>value</th></tr></thead><tbody><tr><td>0</td><td><span><a href=\"https://docs.microsoft.com/dotnet/api/system.string?view=net-7.0\">System.String</a></span></td><td><div class=\"dni-plaintext\"><pre>Simulation Completed with 2 declines</pre></div></td></tr><tr><td>1</td><td><span><a href=\"https://docs.microsoft.com/dotnet/api/system.single?view=net-7.0\">System.Single</a></span></td><td><div class=\"dni-plaintext\"><pre>3.3912154E+11</pre></div></td></tr><tr><td>2</td><td>Submission#23+Population</td><td><details class=\"dni-treeview\"><summary><span class=\"dni-code-hint\"><code>Submission#23+Population</code></span></summary><div><table><thead><tr></tr></thead><tbody><tr><td>Total</td><td><div class=\"dni-plaintext\"><pre>3.3912154E+11</pre></div></td></tr><tr><td>Farmers</td><td><div class=\"dni-plaintext\"><pre>5.589834E+09</pre></div></td></tr><tr><td>Laborers</td><td><div class=\"dni-plaintext\"><pre>2.6978062E+11</pre></div></td></tr><tr><td>Engineers</td><td><div class=\"dni-plaintext\"><pre>738552260</pre></div></td></tr><tr><td>Children</td><td><div class=\"dni-plaintext\"><pre>6.779719E+09</pre></div></td></tr><tr><td>Unemployed</td><td><div class=\"dni-plaintext\"><pre>5.6232792E+10</pre></div></td></tr></tbody></table></div></details></td></tr><tr><td>3</td><td>Submission#23+Market</td><td><details class=\"dni-treeview\"><summary><span class=\"dni-code-hint\"><code>Submission#23+Market</code></span></summary><div><table><thead><tr></tr></thead><tbody><tr><td>Food</td><td><div class=\"dni-plaintext\"><pre>2.7194544E+13</pre></div></td></tr><tr><td>Oxygen</td><td><div class=\"dni-plaintext\"><pre>7.186113E+13</pre></div></td></tr><tr><td>Minerals</td><td><div class=\"dni-plaintext\"><pre>2.5713546E+14</pre></div></td></tr><tr><td>Water</td><td><div class=\"dni-plaintext\"><pre>1.4372227E+13</pre></div></td></tr></tbody></table></div></details></td></tr><tr><td>4</td><td><span><a href=\"https://docs.microsoft.com/dotnet/api/system.linq.enumerable.selectlistiterator-2?view=net-7.0\">System.Linq.Enumerable+SelectListIterator&lt;System.Int32,Submission#23+Population[]&gt;</a></span></td><td><table><thead><tr><th><i>index</i></th><th>value</th></tr></thead><tbody><tr><td>0</td><td><table><thead><tr><th><i>index</i></th><th>value</th></tr></thead><tbody><tr><td>0</td><td><details class=\"dni-treeview\"><summary><span class=\"dni-code-hint\"><code>Submission#23+Population</code></span></summary><div><table><thead><tr></tr></thead><tbody><tr><td>Total</td><td><div class=\"dni-plaintext\"><pre>1020</pre></div></td></tr><tr><td>Farmers</td><td><div class=\"dni-plaintext\"><pre>10</pre></div></td></tr><tr><td>Laborers</td><td><div class=\"dni-plaintext\"><pre>1000</pre></div></td></tr><tr><td>Engineers</td><td><div class=\"dni-plaintext\"><pre>10</pre></div></td></tr><tr><td>Children</td><td><div class=\"dni-plaintext\"><pre>0</pre></div></td></tr><tr><td>Unemployed</td><td><div class=\"dni-plaintext\"><pre>0</pre></div></td></tr></tbody></table></div></details></td></tr><tr><td>1</td><td><details class=\"dni-treeview\"><summary><span class=\"dni-code-hint\"><code>Submission#23+Population</code></span></summary><div><table><thead><tr></tr></thead><tbody><tr><td>Total</td><td><div class=\"dni-plaintext\"><pre>1018</pre></div></td></tr><tr><td>Farmers</td><td><div class=\"dni-plaintext\"><pre>9</pre></div></td></tr><tr><td>Laborers</td><td><div class=\"dni-plaintext\"><pre>980</pre></div></td></tr><tr><td>Engineers</td><td><div class=\"dni-plaintext\"><pre>9</pre></div></td></tr><tr><td>Children</td><td><div class=\"dni-plaintext\"><pre>20</pre></div></td></tr><tr><td>Unemployed</td><td><div class=\"dni-plaintext\"><pre>0</pre></div></td></tr></tbody></table></div></details></td></tr></tbody></table></td></tr><tr><td>1</td><td><table><thead><tr><th><i>index</i></th><th>value</th></tr></thead><tbody><tr><td>0</td><td><details class=\"dni-treeview\"><summary><span class=\"dni-code-hint\"><code>Submission#23+Population</code></span></summary><div><table><thead><tr></tr></thead><tbody><tr><td>Total</td><td><div class=\"dni-plaintext\"><pre>1018</pre></div></td></tr><tr><td>Farmers</td><td><div class=\"dni-plaintext\"><pre>9</pre></div></td></tr><tr><td>Laborers</td><td><div class=\"dni-plaintext\"><pre>980</pre></div></td></tr><tr><td>Engineers</td><td><div class=\"dni-plaintext\"><pre>9</pre></div></td></tr><tr><td>Children</td><td><div class=\"dni-plaintext\"><pre>20</pre></div></td></tr><tr><td>Unemployed</td><td><div class=\"dni-plaintext\"><pre>0</pre></div></td></tr></tbody></table></div></details></td></tr><tr><td>1</td><td><details class=\"dni-treeview\"><summary><span class=\"dni-code-hint\"><code>Submission#23+Population</code></span></summary><div><table><thead><tr></tr></thead><tbody><tr><td>Total</td><td><div class=\"dni-plaintext\"><pre>888</pre></div></td></tr><tr><td>Farmers</td><td><div class=\"dni-plaintext\"><pre>79</pre></div></td></tr><tr><td>Laborers</td><td><div class=\"dni-plaintext\"><pre>692</pre></div></td></tr><tr><td>Engineers</td><td><div class=\"dni-plaintext\"><pre>24</pre></div></td></tr><tr><td>Children</td><td><div class=\"dni-plaintext\"><pre>17</pre></div></td></tr><tr><td>Unemployed</td><td><div class=\"dni-plaintext\"><pre>76</pre></div></td></tr></tbody></table></div></details></td></tr></tbody></table></td></tr></tbody></table></td></tr></tbody></table><style>\r\n",
       ".dni-code-hint {\r\n",
       "    font-style: italic;\r\n",
       "    overflow: hidden;\r\n",
       "    white-space: nowrap;\r\n",
       "}\r\n",
       ".dni-treeview {\r\n",
       "    white-space: nowrap;\r\n",
       "}\r\n",
       ".dni-treeview td {\r\n",
       "    vertical-align: top;\r\n",
       "    text-align: start;\r\n",
       "}\r\n",
       "details.dni-treeview {\r\n",
       "    padding-left: 1em;\r\n",
       "}\r\n",
       "table td {\r\n",
       "    text-align: start;\r\n",
       "}\r\n",
       "table tr { \r\n",
       "    vertical-align: top; \r\n",
       "    margin: 0em 0px;\r\n",
       "}\r\n",
       "table tr td pre \r\n",
       "{ \r\n",
       "    vertical-align: top !important; \r\n",
       "    margin: 0em 0px !important;\r\n",
       "} \r\n",
       "table th {\r\n",
       "    text-align: start;\r\n",
       "}\r\n",
       "</style>"
      ]
     },
     "metadata": {},
     "output_type": "display_data"
    }
   ],
   "source": [
    "List<int> declines = Enumerable.Range(0, steps.Count - 1).Where((i) => steps[i].Population.Total > steps[i + 1].Population.Total).ToList();\n",
    "\n",
    "new object[] {$\"Simulation Completed with {declines.Count} declines\", steps.Last().Population.Total, steps.Last().Population, steps.Last().Market, declines.Select(i => new [] {populations[i], populations[i + 1]})}"
   ]
  },
  {
   "cell_type": "markdown",
   "metadata": {},
   "source": [
    "## Markets\n",
    "\n",
    "$\\Delta price = $  goes up when supply is met, goes down when not "
   ]
  },
  {
   "cell_type": "markdown",
   "metadata": {},
   "source": [
    "# Politics"
   ]
  },
  {
   "cell_type": "markdown",
   "metadata": {},
   "source": [
    "## What do i want\n",
    "I want representation and discourse, disagreement.\n",
    "I want it to be local and state wide. \n",
    "\n",
    "Beurocracy is a mess, but necessary "
   ]
  },
  {
   "cell_type": "markdown",
   "metadata": {},
   "source": [
    "## How do we get it \n",
    "\n",
    "Decisision should be based on local factors as geography and populations.\n",
    "It should be implemented as representatives from different governments.\n",
    "\n",
    "\n",
    "Three tier of government like NUTS\n"
   ]
  },
  {
   "cell_type": "markdown",
   "metadata": {},
   "source": [
    "Ideas \n",
    "\n",
    "- Expertise do it by adding 1 saying output = 1 + expertise * 0.01\n",
    "  - Chain it to some population, where it will be hard to promote to the expertise level \n",
    "  - You could also do it so that its proportional to the tola workforce, so a big population cant also have high expertise,  \n",
    "    but rather it takes time for them to gain that much \n",
    "- Robots, automation\n",
    "  - asf\n",
    "- Market\n"
   ]
  },
  {
   "cell_type": "markdown",
   "metadata": {},
   "source": [
    "# Hotkeys  \n",
    "- `A`, `B` front and back\n",
    "- `ESC`, `ENTER` writing or commands\n",
    "- `M`, `Y` md and code \n"
   ]
  }
 ],
 "metadata": {
  "kernelspec": {
   "display_name": ".NET (C#)",
   "language": "C#",
   "name": ".net-csharp"
  },
  "language_info": {
   "name": "csharp"
  },
  "polyglot_notebook": {
   "kernelInfo": {
    "defaultKernelName": "csharp",
    "items": [
     {
      "aliases": [],
      "name": "csharp"
     }
    ]
   }
  }
 },
 "nbformat": 4,
 "nbformat_minor": 2
}
