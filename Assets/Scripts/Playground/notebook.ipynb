{
 "cells": [
  {
   "cell_type": "markdown",
   "metadata": {},
   "source": [
    "# Hotkeys  \n",
    "- `A`, `B` front and back\n",
    "- `ESC`, `ENTER` writing or commands\n",
    "- `M`, `Y` md and code \n"
   ]
  },
  {
   "cell_type": "markdown",
   "metadata": {},
   "source": [
    "# Start"
   ]
  },
  {
   "cell_type": "code",
   "execution_count": 20,
   "metadata": {
    "dotnet_interactive": {
     "language": "csharp"
    },
    "polyglot_notebook": {
     "kernelName": "csharp"
    },
    "vscode": {
     "languageId": "polyglot-notebook"
    }
   },
   "outputs": [
    {
     "data": {
      "text/html": [
       "<div><div></div><div></div><div><strong>Installed Packages</strong><ul><li><span>Microsoft.Data.Analysis, 0.21.1</span></li><li><span>ScottPlot, 5.0.36</span></li></ul></div></div>"
      ]
     },
     "metadata": {},
     "output_type": "display_data"
    }
   ],
   "source": [
    "#r \"nuget:Microsoft.Data.Analysis\"\n",
    "#r \"nuget:ScottPlot\"\n",
    "\n",
    "using System;\n",
    "using System.Reflection;\n",
    "\n",
    "using Microsoft.DotNet.Interactive.Formatting;\n",
    "\n",
    "using Microsoft.Data.Analysis;\n",
    "\n",
    "using Newtonsoft.Json;\n",
    "\n",
    "bool DEBUG = true;"
   ]
  },
  {
   "cell_type": "code",
   "execution_count": 21,
   "metadata": {
    "dotnet_interactive": {
     "language": "csharp"
    },
    "polyglot_notebook": {
     "kernelName": "csharp"
    },
    "vscode": {
     "languageId": "polyglot-notebook"
    }
   },
   "outputs": [],
   "source": [
    "Formatter.Register(typeof(ScottPlot.Plot), (p, w) => w.Write(((ScottPlot.Plot)p).GetImageHtml(400, 300)), HtmlFormatter.MimeType);\n",
    "\n",
    "class PlotBuilder {\n",
    "    ScottPlot.Plot plot;\n",
    "\n",
    "    public PlotBuilder (string title = \"\") {\n",
    "        plot = new ();\n",
    "        plot.Axes.Title.Label.Text = title;\n",
    "    }\n",
    "\n",
    "    public PlotBuilder Add<T1, T2> (List<T1> x, List<T2> y, string legend = default) {\n",
    "        plot.Add.Scatter(x, y).LegendText = legend ?? \"\";\n",
    "        return this;\n",
    "    }\n",
    "    public PlotBuilder Add<T> (List<T> y, string legend = default) => Add(Enumerable.Range(0, y.Count).ToList(), y, legend);\n",
    "    public PlotBuilder Add<T> (List<(T,T)> y, (string, string) legend = default) =>\n",
    "         Add(y.Select(y => y.Item1).ToList(), legend.Item1)\n",
    "        .Add(y.Select(y => y.Item2).ToList(), legend.Item2);\n",
    "    public PlotBuilder Add<T> (List<(T,T,T)> y, (string, string, string) legend = default) => \n",
    "         Add(y.Select(y => y.Item1).ToList(), legend.Item1)\n",
    "        .Add(y.Select(y => y.Item2).ToList(), legend.Item2)\n",
    "        .Add(y.Select(y => y.Item3).ToList(), legend.Item3);\n",
    "\n",
    "    public PlotBuilder LimitY(double y0, double y1) {\n",
    "        plot.Axes.SetLimitsY(y0, y1);\n",
    "        return this;\n",
    "    } \n",
    "    public PlotBuilder Limit(double x0, double x1, double y0, double y1) {\n",
    "        plot.Axes.SetLimits(x0, x1, y0, y1);\n",
    "        return this;\n",
    "    }\n",
    "    public PlotBuilder LimitH(double h) => LimitY(0, h); \n",
    "\n",
    "    public ScottPlot.Plot Build ()  {  \n",
    "        plot.Axes.SetLimits(0, 1000);\n",
    "        return plot; \n",
    "    }\n",
    "}"
   ]
  },
  {
   "cell_type": "code",
   "execution_count": 22,
   "metadata": {
    "dotnet_interactive": {
     "language": "csharp"
    },
    "polyglot_notebook": {
     "kernelName": "csharp"
    },
    "vscode": {
     "languageId": "polyglot-notebook"
    }
   },
   "outputs": [],
   "source": [
    "static string DumpS(this object value) => value is not string ? JsonConvert.SerializeObject(value, Formatting.None) : value as string;\n",
    "\n",
    "static T[] DumpMulti<T> (this T[] values) {\n",
    "    values.ToList().ForEach(item => item.Dump());\n",
    "    return values;  \n",
    "} \n",
    "static IEnumerable<T> DumpMulti<T> (this IEnumerable<T> values) {\n",
    "    values.ToList().ForEach(item => item.Dump());\n",
    "    return values;\n",
    "} \n",
    "static T Dump<T>(this T value) => DumpOneLine(value);\n",
    "\n",
    "static T DumpOneLine<T> (this T value) {\n",
    "    Console.WriteLine(value.DumpS());\n",
    "    return value;\n",
    "}\n",
    "static void Log(this object item) => Console.WriteLine(item);"
   ]
  },
  {
   "cell_type": "code",
   "execution_count": 23,
   "metadata": {
    "dotnet_interactive": {
     "language": "csharp"
    },
    "polyglot_notebook": {
     "kernelName": "csharp"
    },
    "vscode": {
     "languageId": "polyglot-notebook"
    }
   },
   "outputs": [],
   "source": [
    "static BindingFlags flags = BindingFlags.Public | BindingFlags.Instance;\n",
    "\n",
    "static DataFrame CreateDataFrame (IEnumerable<object> values) {\n",
    "    Type type = values.First().GetType();\n",
    "\n",
    "    if (type.IsPrimitive)\n",
    "        return DataFrame.LoadFrom(values.Select(i => new List<object>() { i }), new List<(string, Type)>() { (\"\", type)});\n",
    "\n",
    "    FieldInfo[] fields = type.GetFields(flags);\n",
    "    PropertyInfo[] properties = type.GetProperties(flags);\n",
    "\n",
    "    IEnumerable<DataFrame> dataFields = fields.Select(field => CreateDataFrame(values.Select(field.GetValue)).AddPrefix($\"{field.Name} \", inPlace: true));\n",
    "    IEnumerable<DataFrame> dataProperties = properties.Select(property => CreateDataFrame(values.Select(property.GetValue)).AddPrefix($\"{property.Name} \", inPlace: true));\n",
    "    IEnumerable<DataFrameColumn> columns = new [] { dataFields, dataProperties }.SelectMany(frames => frames).SelectMany(frame => frame.Columns);\n",
    "    return new DataFrame(columns);\n",
    "}\n",
    "static DataFrame CreateDataFrame<T> (IEnumerable<T> values) => CreateDataFrame(values.Select(i => (object)i));\n",
    "\n",
    "static DataFrame ToDataFrame<T>(this IEnumerable<T> objects, params (int index, string name)[] names) {\n",
    "    FieldInfo[] fields = typeof(T).GetFields();\n",
    "\n",
    "    string[] prefixes = new string[fields.Length];\n",
    "    foreach (var t in names) \n",
    "        prefixes[t.index] = t.name;\n",
    "\n",
    "    IEnumerable<DataFrame> dataFrames = fields.Select((field, i) => CreateDataFrame(objects.Select(obj => field.GetValue(obj))).AddPrefix(prefixes[i], inPlace: true));\n",
    "    IEnumerable<DataFrameColumn> columns = dataFrames.SelectMany(df => df.Columns);\n",
    "\n",
    "    return new DataFrame(columns);\n",
    "} \n",
    "static DataFrame ToDataFrame<T>(this IEnumerable<T> objects, string prefix = \"\")    => CreateDataFrame(objects.ToList()).AddPrefix(prefix, inPlace: true); \n",
    "static DataFrame ToDataFrame<T>(this List<T> objects, string prefix = \"\")           => CreateDataFrame(objects).AddPrefix(prefix, inPlace: true); \n",
    "static DataFrame Concat(this DataFrame df, DataFrame added, string prefix = \"\" )    => new DataFrame(df.Columns.Concat(added.Clone().AddPrefix(prefix).Columns));"
   ]
  },
  {
   "cell_type": "code",
   "execution_count": 24,
   "metadata": {
    "dotnet_interactive": {
     "language": "csharp"
    },
    "polyglot_notebook": {
     "kernelName": "csharp"
    },
    "vscode": {
     "languageId": "polyglot-notebook"
    }
   },
   "outputs": [],
   "source": [
    "Random random = new Random(29);\n",
    "\n",
    "float NextGauss (float mean, float stdDev) {\n",
    "    float u1 = 1.0f - random.NextSingle();\n",
    "    float u2 = 1.0f - random.NextSingle();\n",
    "    float randStdNormal = (float)Math.Sqrt(-2.0f * Math.Log(u1)) * (float)Math.Sin(2.0f * Math.PI * u2); \n",
    "    float randNormal = mean + stdDev * randStdNormal; \n",
    "    return randNormal;\n",
    "}\n",
    "float NextGauss (float mu, float sigma, float min, float max) {\n",
    "    float x;\n",
    "    do\n",
    "    {\n",
    "        x = NextGauss(mu, sigma);\n",
    "    } while (x < min || x > max);\n",
    "\n",
    "    return x;\n",
    "}"
   ]
  },
  {
   "cell_type": "markdown",
   "metadata": {},
   "source": [
    "# Simulation"
   ]
  },
  {
   "cell_type": "code",
   "execution_count": 25,
   "metadata": {
    "dotnet_interactive": {
     "language": "csharp"
    },
    "polyglot_notebook": {
     "kernelName": "csharp"
    },
    "vscode": {
     "languageId": "polyglot-notebook"
    }
   },
   "outputs": [],
   "source": [
    "\n",
    "public partial struct Market\n",
    "{\n",
    "    public ulong Food, Oxygen, Minerals, Water;\n",
    "}\n",
    "\n",
    "public partial struct MarketF\n",
    "{\n",
    "    public float Food, Oxygen, Minerals, Water;\n",
    "}\n",
    "\n",
    "public struct Population\n",
    "{\n",
    "    public ulong Farmers, Laborers, Engineers;\n",
    "    public ulong Children;\n",
    "    public ulong Total => Farmers + Laborers + Engineers + Children;\n",
    "    //public float FarmersNeed, LaborersNeed, EngineersNeed;\n",
    "}\n",
    "\n",
    "public struct Points \n",
    "{\n",
    "    public int Value;\n",
    "}"
   ]
  },
  {
   "cell_type": "code",
   "execution_count": 26,
   "metadata": {
    "dotnet_interactive": {
     "language": "csharp"
    },
    "polyglot_notebook": {
     "kernelName": "csharp"
    },
    "vscode": {
     "languageId": "polyglot-notebook"
    }
   },
   "outputs": [],
   "source": [
    "static Market sub(Market a, Market b) => new Market\n",
    "    {\n",
    "        Food     = a.Food     - b.Food,\n",
    "        Oxygen   = a.Oxygen   - b.Oxygen,\n",
    "        Minerals = a.Minerals - b.Minerals,\n",
    "        Water    = a.Water    - b.Water\n",
    "    };\n",
    "static MarketF divF(Market a, Market b) => new MarketF\n",
    "    {\n",
    "        Food     = (float) a.Food     / b.Food,\n",
    "        Oxygen   = (float) a.Oxygen   / b.Oxygen,\n",
    "        Minerals = (float) a.Minerals / b.Minerals,\n",
    "        Water    = (float) a.Water    / b.Water\n",
    "    };\n",
    "static Market min (Market a, Market b) => new Market\n",
    "    {\n",
    "        Food     = Math.Min(a.Food,     b.Food),\n",
    "        Oxygen   = Math.Min(a.Oxygen,   b.Oxygen),\n",
    "        Minerals = Math.Min(a.Minerals, b.Minerals),\n",
    "        Water    = Math.Min(a.Water,    b.Water)\n",
    "    };"
   ]
  },
  {
   "cell_type": "code",
   "execution_count": 27,
   "metadata": {
    "dotnet_interactive": {
     "language": "csharp"
    },
    "polyglot_notebook": {
     "kernelName": "csharp"
    },
    "vscode": {
     "languageId": "polyglot-notebook"
    }
   },
   "outputs": [],
   "source": [
    "void Build(in Population population, out Market market)\n",
    "{\n",
    "    market.Food = population.Farmers* 5;\n",
    "    market.Minerals = population.Laborers;\n",
    "    market.Oxygen = population.Engineers * 100;\n",
    "    market.Water = population.Engineers * 20;\n",
    "}"
   ]
  },
  {
   "cell_type": "code",
   "execution_count": 28,
   "metadata": {
    "dotnet_interactive": {
     "language": "csharp"
    },
    "polyglot_notebook": {
     "kernelName": "csharp"
    },
    "vscode": {
     "languageId": "polyglot-notebook"
    }
   },
   "outputs": [],
   "source": [
    "void Births (float deathRate, ref Population population) {\n",
    "    float decrease = Math.Clamp(1 - deathRate, 0.8f, 1);\n",
    "    float increase = 0.02f;//Math.Clamp(NextGauss(0.0002f, 0.0001f), 0, 0.01f);\n",
    "\n",
    "    population.Children =  (ulong)Math.Floor(population.Total * increase);\n",
    "\n",
    "    population.Farmers   = (ulong)Math.Floor(population.Farmers   * decrease);\n",
    "    population.Laborers  = (ulong)Math.Floor(population.Laborers  * decrease);\n",
    "    population.Engineers = (ulong)Math.Floor(population.Engineers * decrease);\n",
    "} "
   ]
  },
  {
   "cell_type": "code",
   "execution_count": 29,
   "metadata": {
    "dotnet_interactive": {
     "language": "csharp"
    },
    "polyglot_notebook": {
     "kernelName": "csharp"
    },
    "vscode": {
     "languageId": "polyglot-notebook"
    }
   },
   "outputs": [],
   "source": [
    "void Promote (in MarketF ratios, ref Population population) {\n",
    "    // children\n",
    "    if (ratios.Oxygen < 1 || ratios.Water < 1)\n",
    "        population.Engineers += population.Children;\n",
    "    else if (ratios.Food < 1)\n",
    "        population.Farmers += population.Children;\n",
    "    else\n",
    "        population.Laborers += population.Children;\n",
    "}"
   ]
  },
  {
   "cell_type": "code",
   "execution_count": 30,
   "metadata": {
    "dotnet_interactive": {
     "language": "csharp"
    },
    "polyglot_notebook": {
     "kernelName": "csharp"
    },
    "vscode": {
     "languageId": "polyglot-notebook"
    }
   },
   "outputs": [],
   "source": [
    "void Consume(in Market market, ref Population population, out MarketF ratio, out Market surplus)\n",
    "{\n",
    "    ulong pops = population.Total;\n",
    "    \n",
    "    Market need = new();\n",
    "    need.Oxygen = pops * 2;\n",
    "    need.Food   = pops;\n",
    "    need.Water  = pops;\n",
    "\n",
    "    Market bought = min(market, need);\n",
    "\n",
    "    surplus = sub(market, bought);\n",
    "\n",
    "    ratio = divF(bought, need);\n",
    "}\n"
   ]
  },
  {
   "cell_type": "code",
   "execution_count": 31,
   "metadata": {
    "dotnet_interactive": {
     "language": "csharp"
    },
    "polyglot_notebook": {
     "kernelName": "csharp"
    },
    "vscode": {
     "languageId": "polyglot-notebook"
    }
   },
   "outputs": [],
   "source": [
    "struct SimulationState {\n",
    "    public Market Market;\n",
    "    public Market Surplus;\n",
    "    public MarketF Ratio;\n",
    "    public Population Population;\n",
    "}\n",
    "SimulationState state = new () { Population = new Population { Engineers = 10, Farmers = 10, Laborers = 1000 }};\n",
    "\n",
    "void SimulateStep (ref SimulationState state) {\n",
    "    Build(in state.Population, out state.Market);\n",
    "    Consume(in state.Market, ref state.Population, out state.Ratio, out state.Surplus);\n",
    "    Promote(in state.Ratio, ref state.Population);\n",
    "    Births(1 - state.Ratio.Oxygen, ref state.Population);\n",
    "}\n",
    "\n",
    "\n",
    "List<SimulationState> steps = new() { state };\n",
    "\n",
    "for (int i = 0; i < 1000; i++) {\n",
    "    SimulateStep(ref state);\n",
    "    steps.Add(state);\n",
    "}\n",
    "\n",
    "\n",
    "List<int> declines = Enumerable.Range(0, steps.Count - 1).Where((i) => steps[i].Population.Total > steps[i + 1].Population.Total).ToList();\n",
    "List<Population> populations = steps.Select(s => s.Population).ToList();\n",
    "\n",
    "new object[] {$\"Simulation Completed with {declines.Count} declines\", steps.Last().Population, steps.Last().Market }"
   ]
  },
  {
   "cell_type": "code",
   "execution_count": 32,
   "metadata": {
    "dotnet_interactive": {
     "language": "csharp"
    },
    "polyglot_notebook": {
     "kernelName": "csharp"
    },
    "vscode": {
     "languageId": "polyglot-notebook"
    }
   },
   "outputs": [],
   "source": [
    "new PlotBuilder(\"Total Population\").Add(populations.Select(pop => pop.Total).ToList()).Build()"
   ]
  },
  {
   "cell_type": "code",
   "execution_count": 33,
   "metadata": {
    "dotnet_interactive": {
     "language": "csharp"
    },
    "polyglot_notebook": {
     "kernelName": "csharp"
    },
    "vscode": {
     "languageId": "polyglot-notebook"
    }
   },
   "outputs": [],
   "source": [
    "new PlotBuilder(\"Population groups\").Add(populations.Select(pop => (pop.Farmers, pop.Laborers, pop.Engineers)).ToList(), (\"F\", \"L\", \"E\")).Build()"
   ]
  },
  {
   "cell_type": "code",
   "execution_count": 34,
   "metadata": {
    "dotnet_interactive": {
     "language": "csharp"
    },
    "polyglot_notebook": {
     "kernelName": "csharp"
    },
    "vscode": {
     "languageId": "polyglot-notebook"
    }
   },
   "outputs": [],
   "source": [
    "new PlotBuilder(\"Population Log10\").Add(populations.Select(pop => (Math.Log(pop.Farmers), Math.Log(pop.Laborers), Math.Log(pop.Engineers))).ToList(), (\"F\", \"L\", \"E\")).LimitH(30).Build()"
   ]
  },
  {
   "cell_type": "code",
   "execution_count": 37,
   "metadata": {
    "dotnet_interactive": {
     "language": "csharp"
    },
    "polyglot_notebook": {
     "kernelName": "csharp"
    },
    "vscode": {
     "languageId": "polyglot-notebook"
    }
   },
   "outputs": [],
   "source": [
    "steps.ToDataFrame()"
   ]
  },
  {
   "cell_type": "code",
   "execution_count": null,
   "metadata": {
    "vscode": {
     "languageId": "polyglot-notebook"
    }
   },
   "outputs": [],
   "source": []
  },
  {
   "cell_type": "code",
   "execution_count": 36,
   "metadata": {
    "vscode": {
     "languageId": "polyglot-notebook"
    }
   },
   "outputs": [],
   "source": []
  }
 ],
 "metadata": {
  "kernelspec": {
   "display_name": ".NET (C#)",
   "language": "C#",
   "name": ".net-csharp"
  },
  "language_info": {
   "name": "csharp"
  },
  "polyglot_notebook": {
   "kernelInfo": {
    "defaultKernelName": "csharp",
    "items": [
     {
      "aliases": [],
      "name": "csharp"
     }
    ]
   }
  }
 },
 "nbformat": 4,
 "nbformat_minor": 2
}
